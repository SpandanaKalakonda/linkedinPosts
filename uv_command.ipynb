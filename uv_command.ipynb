{
  "nbformat": 4,
  "nbformat_minor": 0,
  "metadata": {
    "colab": {
      "provenance": [],
      "include_colab_link": true
    },
    "kernelspec": {
      "name": "python3",
      "display_name": "Python 3"
    },
    "language_info": {
      "name": "python"
    }
  },
  "cells": [
    {
      "cell_type": "markdown",
      "metadata": {
        "id": "view-in-github",
        "colab_type": "text"
      },
      "source": [
        "<a href=\"https://colab.research.google.com/github/SpandanaKalakonda/linkedinPosts/blob/main/uv_command.ipynb\" target=\"_parent\"><img src=\"https://colab.research.google.com/assets/colab-badge.svg\" alt=\"Open In Colab\"/></a>"
      ]
    },
    {
      "cell_type": "code",
      "execution_count": null,
      "metadata": {
        "id": "Ua32vE1dJWHE",
        "outputId": "b18e6d27-dade-4a5a-a761-640428b8e627",
        "colab": {
          "base_uri": "https://localhost:8080/"
        }
      },
      "outputs": [
        {
          "output_type": "stream",
          "name": "stdout",
          "text": [
            "Collecting uv\n",
            "  Downloading uv-0.2.23-py3-none-manylinux_2_17_x86_64.manylinux2014_x86_64.whl (13.4 MB)\n",
            "\u001b[2K     \u001b[90m━━━━━━━━━━━━━━━━━━━━━━━━━━━━━━━━━━━━━━━━\u001b[0m \u001b[32m13.4/13.4 MB\u001b[0m \u001b[31m46.8 MB/s\u001b[0m eta \u001b[36m0:00:00\u001b[0m\n",
            "\u001b[?25hInstalling collected packages: uv\n",
            "Successfully installed uv-0.2.23\n"
          ]
        }
      ],
      "source": [
        "# To Install the uv package\n",
        "!pip install uv"
      ]
    },
    {
      "cell_type": "code",
      "source": [
        "# To create a Virtual Environment\n",
        "!uv venv"
      ],
      "metadata": {
        "id": "8V1hD3_WJaQA",
        "outputId": "9141c486-f9c6-4397-8295-595eb5e82be8",
        "colab": {
          "base_uri": "https://localhost:8080/"
        }
      },
      "execution_count": null,
      "outputs": [
        {
          "output_type": "stream",
          "name": "stdout",
          "text": [
            "Using Python 3.10.12 interpreter at: \u001b[36m/usr/bin/python3\u001b[39m\n",
            "Creating virtualenv at: \u001b[36m.venv\u001b[39m\n",
            "Activate with: \u001b[32msource .venv/bin/activate\u001b[39m\n"
          ]
        }
      ]
    },
    {
      "cell_type": "code",
      "source": [
        "# To activate the virtual environment\n",
        "!source .venv/bin/activate"
      ],
      "metadata": {
        "id": "dKiOmYc8Jcf1"
      },
      "execution_count": null,
      "outputs": []
    },
    {
      "cell_type": "code",
      "source": [
        "# To install any library using uv\n",
        "!uv pip install numpy"
      ],
      "metadata": {
        "id": "7ORLFz5AJjDe",
        "colab": {
          "base_uri": "https://localhost:8080/"
        },
        "collapsed": true,
        "outputId": "9619cb6b-aea8-4f08-bab6-8bc2b4b9eb53"
      },
      "execution_count": null,
      "outputs": [
        {
          "output_type": "stream",
          "name": "stdout",
          "text": [
            "\u001b[37m⠋\u001b[0m \u001b[2mResolving dependencies...                                                     \u001b[0m\r\u001b[2K\u001b[37m⠙\u001b[0m \u001b[2mResolving dependencies...                                                     \u001b[0m\r\u001b[2K\u001b[37m⠋\u001b[0m \u001b[2mResolving dependencies...                                                     \u001b[0m\r\u001b[2K\u001b[37m⠙\u001b[0m \u001b[2mResolving dependencies...                                                     \u001b[0m\r\u001b[2K\u001b[37m⠋\u001b[0m \u001b[2mResolving dependencies...                                                     \u001b[0m\r\u001b[2K\u001b[37m⠙\u001b[0m \u001b[2mResolving dependencies...                                                     \u001b[0m\r\u001b[2K\u001b[37m⠋\u001b[0m \u001b[2mResolving dependencies...                                                     \u001b[0m\r\u001b[2K\u001b[37m⠙\u001b[0m \u001b[2mResolving dependencies...                                                     \u001b[0m\r\u001b[2K\u001b[37m⠙\u001b[0m \u001b[2mnumpy==2.0.0                                                                  \u001b[0m\r\u001b[2K\u001b[37m⠙\u001b[0m \u001b[2m                                                                              \u001b[0m\r\u001b[2K\u001b[2mResolved \u001b[1m1 package\u001b[0m \u001b[2min 75ms\u001b[0m\u001b[0m\n",
            "\u001b[37m⠋\u001b[0m \u001b[2mPreparing packages...\u001b[0m (0/0)                                                   \r\u001b[2K\u001b[37m⠋\u001b[0m \u001b[2mPreparing packages...\u001b[0m (0/1)                                                   \r\u001b[2K\u001b[37m⠙\u001b[0m \u001b[2mPreparing packages...\u001b[0m (0/1)                                                   \r\u001b[2K\u001b[37m⠙\u001b[0m \u001b[2mPreparing packages...\u001b[0m (0/1)\n",
            "\u001b[2mnumpy     \u001b[0m \u001b[32m\u001b[2m------------------------------\u001b[0m\u001b[0m     0 B/19.28 MB                      \u001b[1A\r\u001b[2K\u001b[1B\r\u001b[2K\u001b[1A\u001b[37m⠙\u001b[0m \u001b[2mPreparing packages...\u001b[0m (0/1)\n",
            "\u001b[2mnumpy     \u001b[0m \u001b[32m-\u001b[2m-----------------------------\u001b[0m\u001b[0m 2.76 kB/19.28 MB                      \u001b[1A\r\u001b[2K\u001b[1B\r\u001b[2K\u001b[1A\u001b[37m⠙\u001b[0m \u001b[2mPreparing packages...\u001b[0m (0/1)\n",
            "\u001b[2mnumpy     \u001b[0m \u001b[32m-\u001b[2m-----------------------------\u001b[0m\u001b[0m 6.89 kB/19.28 MB                      \u001b[1A\r\u001b[2K\u001b[1B\r\u001b[2K\u001b[1A\u001b[37m⠙\u001b[0m \u001b[2mPreparing packages...\u001b[0m (0/1)\n",
            "\u001b[2mnumpy     \u001b[0m \u001b[32m-\u001b[2m-----------------------------\u001b[0m\u001b[0m 11.02 kB/19.28 MB                     \u001b[1A\r\u001b[2K\u001b[1B\r\u001b[2K\u001b[1A\u001b[37m⠙\u001b[0m \u001b[2mPreparing packages...\u001b[0m (0/1)\n",
            "\u001b[2mnumpy     \u001b[0m \u001b[32m-\u001b[2m-----------------------------\u001b[0m\u001b[0m 15.16 kB/19.28 MB                     \u001b[1A\r\u001b[2K\u001b[1B\r\u001b[2K\u001b[1A\u001b[37m⠙\u001b[0m \u001b[2mPreparing packages...\u001b[0m (0/1)\n",
            "\u001b[2mnumpy     \u001b[0m \u001b[32m-\u001b[2m-----------------------------\u001b[0m\u001b[0m 15.30 kB/19.28 MB                     \u001b[1A\r\u001b[2K\u001b[1B\r\u001b[2K\u001b[1A\u001b[37m⠙\u001b[0m \u001b[2mPreparing packages...\u001b[0m (0/1)\n",
            "\u001b[2mnumpy     \u001b[0m \u001b[32m-\u001b[2m-----------------------------\u001b[0m\u001b[0m 23.50 kB/19.28 MB                     \u001b[1A\r\u001b[2K\u001b[1B\r\u001b[2K\u001b[1A\u001b[37m⠙\u001b[0m \u001b[2mPreparing packages...\u001b[0m (0/1)\n",
            "\u001b[2mnumpy     \u001b[0m \u001b[32m-\u001b[2m-----------------------------\u001b[0m\u001b[0m 31.69 kB/19.28 MB                     \u001b[1A\r\u001b[2K\u001b[1B\r\u001b[2K\u001b[1A\u001b[37m⠙\u001b[0m \u001b[2mPreparing packages...\u001b[0m (0/1)\n",
            "\u001b[2mnumpy     \u001b[0m \u001b[32m-\u001b[2m-----------------------------\u001b[0m\u001b[0m 48.07 kB/19.28 MB                     \u001b[1A\r\u001b[2K\u001b[1B\r\u001b[2K\u001b[1A\u001b[37m⠙\u001b[0m \u001b[2mPreparing packages...\u001b[0m (0/1)\n",
            "\u001b[2mnumpy     \u001b[0m \u001b[32m-\u001b[2m-----------------------------\u001b[0m\u001b[0m 64.46 kB/19.28 MB                     \u001b[1A\r\u001b[2K\u001b[1B\r\u001b[2K\u001b[1A\u001b[37m⠙\u001b[0m \u001b[2mPreparing packages...\u001b[0m (0/1)\n",
            "\u001b[2mnumpy     \u001b[0m \u001b[32m-\u001b[2m-----------------------------\u001b[0m\u001b[0m 80.84 kB/19.28 MB                     \u001b[1A\r\u001b[2K\u001b[1B\r\u001b[2K\u001b[1A\u001b[37m⠙\u001b[0m \u001b[2mPreparing packages...\u001b[0m (0/1)\n",
            "\u001b[2mnumpy     \u001b[0m \u001b[32m-\u001b[2m-----------------------------\u001b[0m\u001b[0m 97.22 kB/19.28 MB                     \u001b[1A\r\u001b[2K\u001b[1B\r\u001b[2K\u001b[1A\u001b[37m⠙\u001b[0m \u001b[2mPreparing packages...\u001b[0m (0/1)\n",
            "\u001b[2mnumpy     \u001b[0m \u001b[32m-\u001b[2m-----------------------------\u001b[0m\u001b[0m 113.61 kB/19.28 MB                    \u001b[1A\r\u001b[2K\u001b[1B\r\u001b[2K\u001b[1A\u001b[37m⠙\u001b[0m \u001b[2mPreparing packages...\u001b[0m (0/1)\n",
            "\u001b[2mnumpy     \u001b[0m \u001b[32m-\u001b[2m-----------------------------\u001b[0m\u001b[0m 129.99 kB/19.28 MB                    \u001b[1A\r\u001b[2K\u001b[1B\r\u001b[2K\u001b[1A\u001b[37m⠙\u001b[0m \u001b[2mPreparing packages...\u001b[0m (0/1)\n",
            "\u001b[2mnumpy     \u001b[0m \u001b[32m-\u001b[2m-----------------------------\u001b[0m\u001b[0m 146.38 kB/19.28 MB                    \u001b[1A\r\u001b[2K\u001b[1B\r\u001b[2K\u001b[1A\u001b[37m⠙\u001b[0m \u001b[2mPreparing packages...\u001b[0m (0/1)\n",
            "\u001b[2mnumpy     \u001b[0m \u001b[32m-\u001b[2m-----------------------------\u001b[0m\u001b[0m 162.76 kB/19.28 MB                    \u001b[1A\r\u001b[2K\u001b[1B\r\u001b[2K\u001b[1A\u001b[37m⠙\u001b[0m \u001b[2mPreparing packages...\u001b[0m (0/1)\n",
            "\u001b[2mnumpy     \u001b[0m \u001b[32m-\u001b[2m-----------------------------\u001b[0m\u001b[0m 179.15 kB/19.28 MB                    \u001b[1A\r\u001b[2K\u001b[1B\r\u001b[2K\u001b[1A\u001b[37m⠙\u001b[0m \u001b[2mPreparing packages...\u001b[0m (0/1)\n",
            "\u001b[2K\u001b[1A\u001b[37m⠙\u001b[0m \u001b[2mPreparing packages...\u001b[0m (0/1)\n",
            "\u001b[2K\u001b[1A\u001b[37m⠙\u001b[0m \u001b[2mPreparing packages...\u001b[0m (0/1)\n",
            "\u001b[2K\u001b[1A\u001b[37m⠹\u001b[0m \u001b[2mPreparing packages...\u001b[0m (0/1)\n",
            "\u001b[2K\u001b[1A\u001b[37m⠹\u001b[0m \u001b[2mPreparing packages...\u001b[0m (0/1)\n",
            "\u001b[2K\u001b[1A\u001b[37m⠹\u001b[0m \u001b[2mPreparing packages...\u001b[0m (0/1)\n",
            "\u001b[2K\u001b[1A\u001b[37m⠹\u001b[0m \u001b[2mPreparing packages...\u001b[0m (0/1)\n",
            "\u001b[2K\u001b[1A\u001b[37m⠹\u001b[0m \u001b[2mPreparing packages...\u001b[0m (0/1)\n",
            "\u001b[2K\u001b[1A\u001b[37m⠸\u001b[0m \u001b[2mPreparing packages...\u001b[0m (0/1)\n",
            "\u001b[2K\u001b[1A\u001b[37m⠸\u001b[0m \u001b[2mPreparing packages...\u001b[0m (0/1)\n",
            "\u001b[2K\u001b[1A\u001b[37m⠸\u001b[0m \u001b[2mPreparing packages...\u001b[0m (0/1)\n",
            "\u001b[2K\u001b[1A\u001b[37m⠼\u001b[0m \u001b[2mPreparing packages...\u001b[0m (0/1)\n",
            "\u001b[2K\u001b[1A\u001b[37m⠼\u001b[0m \u001b[2mPreparing packages...\u001b[0m (0/1)\n",
            "\u001b[2K\u001b[2mPrepared \u001b[1m1 package\u001b[0m \u001b[2min 652ms\u001b[0m\u001b[0m\n",
            "\u001b[2K\u001b[2mInstalled \u001b[1m1 package\u001b[0m \u001b[2min 24ms\u001b[0m\u001b[0m\n",
            " \u001b[32m+\u001b[39m \u001b[1mnumpy\u001b[0m\u001b[2m==2.0.0\u001b[0m\n"
          ]
        }
      ]
    },
    {
      "cell_type": "code",
      "source": [
        "# To create the requirements.txt\n",
        "!uv pip freeze >> requirements.txt"
      ],
      "metadata": {
        "id": "dMLDM9erJe4W"
      },
      "execution_count": null,
      "outputs": []
    },
    {
      "cell_type": "code",
      "source": [
        "#To uninstall a package\n",
        "!uv pip uninstall numpy"
      ],
      "metadata": {
        "colab": {
          "base_uri": "https://localhost:8080/"
        },
        "id": "dl0LxINqrIuH",
        "outputId": "fe280188-9b18-4ef4-874d-dc4058c9307c"
      },
      "execution_count": null,
      "outputs": [
        {
          "output_type": "stream",
          "name": "stdout",
          "text": [
            "\u001b[2mUninstalled \u001b[1m1 package\u001b[0m \u001b[2min 19ms\u001b[0m\u001b[0m\n",
            " \u001b[31m-\u001b[39m \u001b[1mnumpy\u001b[0m\u001b[2m==2.0.0\u001b[0m\n"
          ]
        }
      ]
    },
    {
      "cell_type": "code",
      "source": [
        "# To install the multiple packages in requirements.txt\n",
        "!uv pip install -r requirements.txt"
      ],
      "metadata": {
        "colab": {
          "base_uri": "https://localhost:8080/"
        },
        "id": "-k8Un1krldl5",
        "outputId": "d55d5eda-2de0-4e6b-fc23-ce40e567d744"
      },
      "execution_count": null,
      "outputs": [
        {
          "output_type": "stream",
          "name": "stdout",
          "text": [
            "\u001b[37m⠋\u001b[0m \u001b[2mResolving dependencies...                                                     \u001b[0m\r\u001b[2K\u001b[37m⠙\u001b[0m \u001b[2mResolving dependencies...                                                     \u001b[0m\r\u001b[2K\u001b[37m⠋\u001b[0m \u001b[2mResolving dependencies...                                                     \u001b[0m\r\u001b[2K\u001b[37m⠙\u001b[0m \u001b[2mResolving dependencies...                                                     \u001b[0m\r\u001b[2K\u001b[37m⠋\u001b[0m \u001b[2mResolving dependencies...                                                     \u001b[0m\r\u001b[2K\u001b[37m⠙\u001b[0m \u001b[2mResolving dependencies...                                                     \u001b[0m\r\u001b[2K\u001b[37m⠋\u001b[0m \u001b[2mResolving dependencies...                                                     \u001b[0m\r\u001b[2K\u001b[37m⠙\u001b[0m \u001b[2mResolving dependencies...                                                     \u001b[0m\r\u001b[2K\u001b[37m⠙\u001b[0m \u001b[2mnumpy==2.0.0                                                                  \u001b[0m\r\u001b[2K\u001b[37m⠙\u001b[0m \u001b[2m                                                                              \u001b[0m\r\u001b[2K\u001b[2mResolved \u001b[1m1 package\u001b[0m \u001b[2min 14ms\u001b[0m\u001b[0m\n",
            "░░░░░░░░░░░░░░░░░░░░ [0/0] \u001b[2mInstalling wheels...                                 \u001b[0m\r\u001b[2K░░░░░░░░░░░░░░░░░░░░ [0/1] \u001b[2mInstalling wheels...                                 \u001b[0m\r\u001b[2K░░░░░░░░░░░░░░░░░░░░ [0/1] \u001b[2mnumpy==2.0.0                                         \u001b[0m\r\u001b[2K████████████████████ [1/1] \u001b[2mnumpy==2.0.0                                         \u001b[0m\r\u001b[2K\u001b[2mInstalled \u001b[1m1 package\u001b[0m \u001b[2min 25ms\u001b[0m\u001b[0m\n",
            " \u001b[32m+\u001b[39m \u001b[1mnumpy\u001b[0m\u001b[2m==2.0.0\u001b[0m\n"
          ]
        }
      ]
    },
    {
      "cell_type": "code",
      "source": [
        "# to install a Package\n",
        "!uv pip install pandas"
      ],
      "metadata": {
        "colab": {
          "base_uri": "https://localhost:8080/"
        },
        "collapsed": true,
        "id": "46aSHFGOlkt9",
        "outputId": "913d7cf8-e8a8-4f0b-8330-7df1502c5b87"
      },
      "execution_count": null,
      "outputs": [
        {
          "output_type": "stream",
          "name": "stdout",
          "text": [
            "\u001b[37m⠋\u001b[0m \u001b[2mResolving dependencies...                                                     \u001b[0m\r\u001b[2K\u001b[37m⠋\u001b[0m \u001b[2mResolving dependencies...                                                     \u001b[0m\r\u001b[2K\u001b[37m⠋\u001b[0m \u001b[2mResolving dependencies...                                                     \u001b[0m\r\u001b[2K\u001b[37m⠙\u001b[0m \u001b[2mResolving dependencies...                                                     \u001b[0m\r\u001b[2K\u001b[37m⠋\u001b[0m \u001b[2mResolving dependencies...                                                     \u001b[0m\r\u001b[2K\u001b[37m⠙\u001b[0m \u001b[2mResolving dependencies...                                                     \u001b[0m\r\u001b[2K\u001b[37m⠙\u001b[0m \u001b[2mpandas==2.2.2                                                                 \u001b[0m\r\u001b[2K\u001b[37m⠙\u001b[0m \u001b[2mnumpy==2.0.0                                                                  \u001b[0m\r\u001b[2K\u001b[37m⠙\u001b[0m \u001b[2mnumpy==2.0.0                                                                  \u001b[0m\r\u001b[2K\u001b[37m⠙\u001b[0m \u001b[2mpython-dateutil==2.9.0.post0                                                  \u001b[0m\r\u001b[2K\u001b[37m⠙\u001b[0m \u001b[2mpytz==2024.1                                                                  \u001b[0m\r\u001b[2K\u001b[37m⠙\u001b[0m \u001b[2mtzdata==2024.1                                                                \u001b[0m\r\u001b[2K\u001b[37m⠙\u001b[0m \u001b[2msix==1.16.0                                                                   \u001b[0m\r\u001b[2K\u001b[37m⠙\u001b[0m \u001b[2m                                                                              \u001b[0m\r\u001b[2K\u001b[2mResolved \u001b[1m6 packages\u001b[0m \u001b[2min 84ms\u001b[0m\u001b[0m\n",
            "\u001b[37m⠋\u001b[0m \u001b[2mPreparing packages...\u001b[0m (0/0)                                                   \r\u001b[2K\u001b[37m⠋\u001b[0m \u001b[2mPreparing packages...\u001b[0m (0/5)                                                   \r\u001b[2K\u001b[37m⠙\u001b[0m \u001b[2mPreparing packages...\u001b[0m (0/5)                                                   \r\u001b[2K\u001b[37m⠙\u001b[0m \u001b[2mPreparing packages...\u001b[0m (0/5)\n",
            "\u001b[2mpytz      \u001b[0m \u001b[32m\u001b[2m------------------------------\u001b[0m\u001b[0m     0 B/505.47 kB                     \u001b[1A\r\u001b[2K\u001b[1B\r\u001b[2K\u001b[1A\u001b[37m⠙\u001b[0m \u001b[2mPreparing packages...\u001b[0m (0/5)\n",
            "\u001b[2mpytz      \u001b[0m \u001b[32m-\u001b[2m-----------------------------\u001b[0m\u001b[0m 8.19 kB/505.47 kB                     \u001b[1A\r\u001b[2K\u001b[1B\r\u001b[2K\u001b[1A\u001b[37m⠙\u001b[0m \u001b[2mPreparing packages...\u001b[0m (0/5)\n",
            "\u001b[2mpytz      \u001b[0m \u001b[32m-\u001b[2m-----------------------------\u001b[0m\u001b[0m 8.19 kB/505.47 kB\n",
            "\u001b[2mpandas    \u001b[0m \u001b[32m\u001b[2m------------------------------\u001b[0m\u001b[0m     0 B/13.03 MB                      \u001b[2A\r\u001b[2K\u001b[1B\r\u001b[2K\u001b[1B\r\u001b[2K\u001b[2A\u001b[37m⠙\u001b[0m \u001b[2mPreparing packages...\u001b[0m (0/5)\n",
            "\u001b[2mpytz      \u001b[0m \u001b[32m-\u001b[2m-----------------------------\u001b[0m\u001b[0m 8.19 kB/505.47 kB\n",
            "\u001b[2mpandas    \u001b[0m \u001b[32m-\u001b[2m-----------------------------\u001b[0m\u001b[0m 2.76 kB/13.03 MB                      \u001b[2A\r\u001b[2K\u001b[1B\r\u001b[2K\u001b[1B\r\u001b[2K\u001b[2A\u001b[37m⠙\u001b[0m \u001b[2mPreparing packages...\u001b[0m (0/5)\n",
            "\u001b[2mpytz      \u001b[0m \u001b[32m-\u001b[2m-----------------------------\u001b[0m\u001b[0m 16.38 kB/505.47 kB\n",
            "\u001b[2mpandas    \u001b[0m \u001b[32m-\u001b[2m-----------------------------\u001b[0m\u001b[0m 2.76 kB/13.03 MB                      \u001b[2A\r\u001b[2K\u001b[1B\r\u001b[2K\u001b[1B\r\u001b[2K\u001b[2A\u001b[37m⠙\u001b[0m \u001b[2mPreparing packages...\u001b[0m (0/5)\n",
            "\u001b[2mtzdata    \u001b[0m \u001b[32m\u001b[2m------------------------------\u001b[0m\u001b[0m     0 B/345.37 kB\n",
            "\u001b[2mpytz      \u001b[0m \u001b[32m-\u001b[2m-----------------------------\u001b[0m\u001b[0m 16.38 kB/505.47 kB\n",
            "\u001b[2mpandas    \u001b[0m \u001b[32m-\u001b[2m-----------------------------\u001b[0m\u001b[0m 2.76 kB/13.03 MB                      \u001b[3A\r\u001b[2K\u001b[1B\r\u001b[2K\u001b[1B\r\u001b[2K\u001b[1B\r\u001b[2K\u001b[3A\u001b[37m⠙\u001b[0m \u001b[2mPreparing packages...\u001b[0m (0/5)\n",
            "\u001b[2mtzdata    \u001b[0m \u001b[32m\u001b[2m------------------------------\u001b[0m\u001b[0m     0 B/345.37 kB\n",
            "\u001b[2mpytz      \u001b[0m \u001b[32m--\u001b[2m----------------------------\u001b[0m\u001b[0m 32.77 kB/505.47 kB\n",
            "\u001b[2mpandas    \u001b[0m \u001b[32m-\u001b[2m-----------------------------\u001b[0m\u001b[0m 2.76 kB/13.03 MB                      \u001b[3A\r\u001b[2K\u001b[1B\r\u001b[2K\u001b[1B\r\u001b[2K\u001b[1B\r\u001b[2K\u001b[3A\u001b[37m⠙\u001b[0m \u001b[2mPreparing packages...\u001b[0m (0/5)\n",
            "\u001b[2mtzdata    \u001b[0m \u001b[32m-\u001b[2m-----------------------------\u001b[0m\u001b[0m 8.19 kB/345.37 kB\n",
            "\u001b[2mpytz      \u001b[0m \u001b[32m--\u001b[2m----------------------------\u001b[0m\u001b[0m 32.77 kB/505.47 kB\n",
            "\u001b[2mpandas    \u001b[0m \u001b[32m-\u001b[2m-----------------------------\u001b[0m\u001b[0m 2.76 kB/13.03 MB                      \u001b[3A\r\u001b[2K\u001b[1B\r\u001b[2K\u001b[1B\r\u001b[2K\u001b[1B\r\u001b[2K\u001b[3A\u001b[37m⠙\u001b[0m \u001b[2mPreparing packages...\u001b[0m (0/5)\n",
            "\u001b[2msix       \u001b[0m \u001b[32m\u001b[2m------------------------------\u001b[0m\u001b[0m     0 B/11.05 kB\n",
            "\u001b[2mtzdata    \u001b[0m \u001b[32m-\u001b[2m-----------------------------\u001b[0m\u001b[0m 8.19 kB/345.37 kB\n",
            "\u001b[2mpytz      \u001b[0m \u001b[32m--\u001b[2m----------------------------\u001b[0m\u001b[0m 32.77 kB/505.47 kB\n",
            "\u001b[2mpandas    \u001b[0m \u001b[32m-\u001b[2m-----------------------------\u001b[0m\u001b[0m 2.76 kB/13.03 MB                      \u001b[4A\r\u001b[2K\u001b[1B\r\u001b[2K\u001b[1B\r\u001b[2K\u001b[1B\r\u001b[2K\u001b[1B\r\u001b[2K\u001b[4A\u001b[37m⠙\u001b[0m \u001b[2mPreparing packages...\u001b[0m (0/5)\n",
            "\u001b[2msix       \u001b[0m \u001b[32m--------\u001b[2m----------------------\u001b[0m\u001b[0m 2.76 kB/11.05 kB\n",
            "\u001b[2mtzdata    \u001b[0m \u001b[32m-\u001b[2m-----------------------------\u001b[0m\u001b[0m 8.19 kB/345.37 kB\n",
            "\u001b[2mpytz      \u001b[0m \u001b[32m--\u001b[2m----------------------------\u001b[0m\u001b[0m 32.77 kB/505.47 kB\n",
            "\u001b[2mpandas    \u001b[0m \u001b[32m-\u001b[2m-----------------------------\u001b[0m\u001b[0m 2.76 kB/13.03 MB                      \u001b[4A\r\u001b[2K\u001b[1B\r\u001b[2K\u001b[1B\r\u001b[2K\u001b[1B\r\u001b[2K\u001b[1B\r\u001b[2K\u001b[4A\u001b[37m⠙\u001b[0m \u001b[2mPreparing packages...\u001b[0m (0/5)\n",
            "\u001b[2msix       \u001b[0m \u001b[32m--------\u001b[2m----------------------\u001b[0m\u001b[0m 2.76 kB/11.05 kB\n",
            "\u001b[2mtzdata    \u001b[0m \u001b[32m-\u001b[2m-----------------------------\u001b[0m\u001b[0m 8.19 kB/345.37 kB\n",
            "\u001b[2mpytz      \u001b[0m \u001b[32m--\u001b[2m----------------------------\u001b[0m\u001b[0m 32.77 kB/505.47 kB\n",
            "\u001b[2mpandas    \u001b[0m \u001b[32m-\u001b[2m-----------------------------\u001b[0m\u001b[0m 6.89 kB/13.03 MB                      \u001b[4A\r\u001b[2K\u001b[1B\r\u001b[2K\u001b[1B\r\u001b[2K\u001b[1B\r\u001b[2K\u001b[1B\r\u001b[2K\u001b[4A\u001b[37m⠙\u001b[0m \u001b[2mPreparing packages...\u001b[0m (0/5)\n",
            "\u001b[2msix       \u001b[0m \u001b[32m--------\u001b[2m----------------------\u001b[0m\u001b[0m 2.76 kB/11.05 kB\n",
            "\u001b[2mtzdata    \u001b[0m \u001b[32m-\u001b[2m-----------------------------\u001b[0m\u001b[0m 8.19 kB/345.37 kB\n",
            "\u001b[2mpytz      \u001b[0m \u001b[32m--\u001b[2m----------------------------\u001b[0m\u001b[0m 32.77 kB/505.47 kB\n",
            "\u001b[2mpandas    \u001b[0m \u001b[32m-\u001b[2m-----------------------------\u001b[0m\u001b[0m 11.02 kB/13.03 MB                     \u001b[4A\r\u001b[2K\u001b[1B\r\u001b[2K\u001b[1B\r\u001b[2K\u001b[1B\r\u001b[2K\u001b[1B\r\u001b[2K\u001b[4A\u001b[37m⠙\u001b[0m \u001b[2mPreparing packages...\u001b[0m (0/5)\n",
            "\u001b[2msix       \u001b[0m \u001b[32m--------\u001b[2m----------------------\u001b[0m\u001b[0m 2.76 kB/11.05 kB\n",
            "\u001b[2mtzdata    \u001b[0m \u001b[32m-\u001b[2m-----------------------------\u001b[0m\u001b[0m 8.19 kB/345.37 kB\n",
            "\u001b[2mpytz      \u001b[0m \u001b[32m--\u001b[2m----------------------------\u001b[0m\u001b[0m 32.77 kB/505.47 kB\n",
            "\u001b[2mpandas    \u001b[0m \u001b[32m-\u001b[2m-----------------------------\u001b[0m\u001b[0m 15.16 kB/13.03 MB                     \u001b[4A\r\u001b[2K\u001b[1B\r\u001b[2K\u001b[1B\r\u001b[2K\u001b[1B\r\u001b[2K\u001b[1B\r\u001b[2K\u001b[4A\u001b[37m⠙\u001b[0m \u001b[2mPreparing packages...\u001b[0m (0/5)\n",
            "\u001b[2msix       \u001b[0m \u001b[32m--------\u001b[2m----------------------\u001b[0m\u001b[0m 2.76 kB/11.05 kB\n",
            "\u001b[2mtzdata    \u001b[0m \u001b[32m-\u001b[2m-----------------------------\u001b[0m\u001b[0m 8.19 kB/345.37 kB\n",
            "\u001b[2mpytz      \u001b[0m \u001b[32m--\u001b[2m----------------------------\u001b[0m\u001b[0m 32.77 kB/505.47 kB\n",
            "\u001b[2mpandas    \u001b[0m \u001b[32m-\u001b[2m-----------------------------\u001b[0m\u001b[0m 19.29 kB/13.03 MB                     \u001b[4A\r\u001b[2K\u001b[1B\r\u001b[2K\u001b[1B\r\u001b[2K\u001b[1B\r\u001b[2K\u001b[1B\r\u001b[2K\u001b[4A\u001b[37m⠙\u001b[0m \u001b[2mPreparing packages...\u001b[0m (0/5)\n",
            "\u001b[2msix       \u001b[0m \u001b[32m--------\u001b[2m----------------------\u001b[0m\u001b[0m 2.76 kB/11.05 kB\n",
            "\u001b[2mpython-dateutil\u001b[0m \u001b[32m\u001b[2m------------------------------\u001b[0m\u001b[0m     0 B/229.89 kB\n",
            "\u001b[2mtzdata    \u001b[0m \u001b[32m-\u001b[2m-----------------------------\u001b[0m\u001b[0m 8.19 kB/345.37 kB\n",
            "\u001b[2mpytz      \u001b[0m \u001b[32m--\u001b[2m----------------------------\u001b[0m\u001b[0m 32.77 kB/505.47 kB\n",
            "\u001b[2mpandas    \u001b[0m \u001b[32m-\u001b[2m-----------------------------\u001b[0m\u001b[0m 19.29 kB/13.03 MB                     \u001b[5A\r\u001b[2K\u001b[1B\r\u001b[2K\u001b[1B\r\u001b[2K\u001b[1B\r\u001b[2K\u001b[1B\r\u001b[2K\u001b[1B\r\u001b[2K\u001b[5A\u001b[37m⠙\u001b[0m \u001b[2mPreparing packages...\u001b[0m (0/5)\n",
            "\u001b[2msix       \u001b[0m \u001b[32m--------\u001b[2m----------------------\u001b[0m\u001b[0m 2.76 kB/11.05 kB\n",
            "\u001b[2mpython-dateutil\u001b[0m \u001b[32m--\u001b[2m----------------------------\u001b[0m\u001b[0m 8.19 kB/229.89 kB\n",
            "\u001b[2mtzdata    \u001b[0m \u001b[32m-\u001b[2m-----------------------------\u001b[0m\u001b[0m 8.19 kB/345.37 kB\n",
            "\u001b[2mpytz      \u001b[0m \u001b[32m--\u001b[2m----------------------------\u001b[0m\u001b[0m 32.77 kB/505.47 kB\n",
            "\u001b[2mpandas    \u001b[0m \u001b[32m-\u001b[2m-----------------------------\u001b[0m\u001b[0m 19.29 kB/13.03 MB                     \u001b[5A\r\u001b[2K\u001b[1B\r\u001b[2K\u001b[1B\r\u001b[2K\u001b[1B\r\u001b[2K\u001b[1B\r\u001b[2K\u001b[1B\r\u001b[2K\u001b[5A\u001b[37m⠙\u001b[0m \u001b[2mPreparing packages...\u001b[0m (0/5)\n",
            "\u001b[2msix       \u001b[0m \u001b[32m-------------------\u001b[2m-----------\u001b[0m\u001b[0m 6.89 kB/11.05 kB\n",
            "\u001b[2mpython-dateutil\u001b[0m \u001b[32m--\u001b[2m----------------------------\u001b[0m\u001b[0m 8.19 kB/229.89 kB\n",
            "\u001b[2mtzdata    \u001b[0m \u001b[32m-\u001b[2m-----------------------------\u001b[0m\u001b[0m 8.19 kB/345.37 kB\n",
            "\u001b[2mpytz      \u001b[0m \u001b[32m--\u001b[2m----------------------------\u001b[0m\u001b[0m 32.77 kB/505.47 kB\n",
            "\u001b[2mpandas    \u001b[0m \u001b[32m-\u001b[2m-----------------------------\u001b[0m\u001b[0m 19.29 kB/13.03 MB                     \u001b[5A\r\u001b[2K\u001b[1B\r\u001b[2K\u001b[1B\r\u001b[2K\u001b[1B\r\u001b[2K\u001b[1B\r\u001b[2K\u001b[1B\r\u001b[2K\u001b[5A\u001b[37m⠙\u001b[0m \u001b[2mPreparing packages...\u001b[0m (0/5)\n",
            "\u001b[2mpython-dateutil\u001b[0m \u001b[32m--\u001b[2m----------------------------\u001b[0m\u001b[0m 8.19 kB/229.89 kB\n",
            "\u001b[2mtzdata    \u001b[0m \u001b[32m--\u001b[2m----------------------------\u001b[0m\u001b[0m 16.38 kB/345.37 kB\n",
            "\u001b[2mpytz      \u001b[0m \u001b[32m--\u001b[2m----------------------------\u001b[0m\u001b[0m 32.77 kB/505.47 kB\n",
            "\u001b[2mpandas    \u001b[0m \u001b[32m-\u001b[2m-----------------------------\u001b[0m\u001b[0m 52.93 kB/13.03 MB                     \u001b[4A\r\u001b[2K\u001b[1B\r\u001b[2K\u001b[1B\r\u001b[2K\u001b[1B\r\u001b[2K\u001b[1B\r\u001b[2K\u001b[4A\u001b[37m⠙\u001b[0m \u001b[2mPreparing packages...\u001b[0m (0/5)\n",
            "\u001b[2mtzdata    \u001b[0m \u001b[32m---\u001b[2m---------------------------\u001b[0m\u001b[0m 32.77 kB/345.37 kB\n",
            "\u001b[2mpytz      \u001b[0m \u001b[32m---\u001b[2m---------------------------\u001b[0m\u001b[0m 49.15 kB/505.47 kB\n",
            "\u001b[2mpandas    \u001b[0m \u001b[32m-\u001b[2m-----------------------------\u001b[0m\u001b[0m 85.70 kB/13.03 MB                     \u001b[3A\r\u001b[2K\u001b[1B\r\u001b[2K\u001b[1B\r\u001b[2K\u001b[1B\r\u001b[2K\u001b[3A\u001b[37m⠙\u001b[0m \u001b[2mPreparing packages...\u001b[0m (0/5)\n",
            "\u001b[2mtzdata    \u001b[0m \u001b[32m--------\u001b[2m----------------------\u001b[0m\u001b[0m 81.92 kB/345.37 kB\n",
            "\u001b[2mpytz      \u001b[0m \u001b[32m-------\u001b[2m-----------------------\u001b[0m\u001b[0m 114.69 kB/505.47 kB\n",
            "\u001b[2mpandas    \u001b[0m \u001b[32m-\u001b[2m-----------------------------\u001b[0m\u001b[0m 331.46 kB/13.03 MB                    \u001b[3A\r\u001b[2K\u001b[1B\r\u001b[2K\u001b[1B\r\u001b[2K\u001b[1B\r\u001b[2K\u001b[3A\u001b[37m⠙\u001b[0m \u001b[2mPreparing packages...\u001b[0m (0/5)\n",
            "\u001b[2mtzdata    \u001b[0m \u001b[32m------------\u001b[2m------------------\u001b[0m\u001b[0m 131.07 kB/345.37 kB\n",
            "\u001b[2mpytz      \u001b[0m \u001b[32m------------\u001b[2m------------------\u001b[0m\u001b[0m 196.61 kB/505.47 kB\n",
            "\u001b[2K\u001b[3A\u001b[37m⠙\u001b[0m \u001b[2mPreparing packages...\u001b[0m (0/5)\n",
            "\u001b[2mtzdata    \u001b[0m \u001b[32m------------------\u001b[2m------------\u001b[0m\u001b[0m 196.61 kB/345.37 kB\n",
            "\u001b[2mpytz      \u001b[0m \u001b[32m----------------\u001b[2m--------------\u001b[0m\u001b[0m 262.14 kB/505.47 kB\n",
            "\u001b[2K\u001b[3A\u001b[37m⠹\u001b[0m \u001b[2mPreparing packages...\u001b[0m (2/5)\n",
            "\u001b[2mtzdata    \u001b[0m \u001b[32m----------------------\u001b[2m--------\u001b[0m\u001b[0m 252.03 kB/345.37 kB\n",
            "\u001b[2mpytz      \u001b[0m \u001b[32m----------------------\u001b[2m--------\u001b[0m\u001b[0m 360.45 kB/505.47 kB\n",
            "\u001b[2K\u001b[3A\u001b[37m⠹\u001b[0m \u001b[2mPreparing packages...\u001b[0m (2/5)\n",
            "\u001b[2mpytz      \u001b[0m \u001b[32m--------------------------\u001b[2m----\u001b[0m\u001b[0m 425.98 kB/505.47 kB\n",
            "\u001b[2K\u001b[2A\u001b[37m⠹\u001b[0m \u001b[2mPreparing packages...\u001b[0m (2/5)\n",
            "\u001b[2mpytz      \u001b[0m \u001b[32m---------------------------\u001b[2m---\u001b[0m\u001b[0m 442.37 kB/505.47 kB\n",
            "\u001b[2K\u001b[2A\u001b[37m⠹\u001b[0m \u001b[2mPreparing packages...\u001b[0m (2/5)\n",
            "\u001b[2K\u001b[1A\u001b[37m⠹\u001b[0m \u001b[2mPreparing packages...\u001b[0m (2/5)\n",
            "\u001b[2K\u001b[1A\u001b[37m⠹\u001b[0m \u001b[2mPreparing packages...\u001b[0m (2/5)\n",
            "\u001b[2K\u001b[1A\u001b[37m⠸\u001b[0m \u001b[2mPreparing packages...\u001b[0m (4/5)\n",
            "\u001b[2K\u001b[1A\u001b[37m⠸\u001b[0m \u001b[2mPreparing packages...\u001b[0m (4/5)\n",
            "\u001b[2K\u001b[1A\u001b[37m⠸\u001b[0m \u001b[2mPreparing packages...\u001b[0m (4/5)\n",
            "\u001b[2K\u001b[1A\u001b[37m⠸\u001b[0m \u001b[2mPreparing packages...\u001b[0m (4/5)\n",
            "\u001b[2K\u001b[1A\u001b[37m⠸\u001b[0m \u001b[2mPreparing packages...\u001b[0m (4/5)\n",
            "\u001b[2K\u001b[1A\u001b[37m⠼\u001b[0m \u001b[2mPreparing packages...\u001b[0m (4/5)\n",
            "\u001b[2K\u001b[1A\u001b[37m⠼\u001b[0m \u001b[2mPreparing packages...\u001b[0m (4/5)\n",
            "\u001b[2K\u001b[2mPrepared \u001b[1m5 packages\u001b[0m \u001b[2min 728ms\u001b[0m\u001b[0m\n",
            "\u001b[2K\u001b[2mInstalled \u001b[1m5 packages\u001b[0m \u001b[2min 78ms\u001b[0m\u001b[0m\n",
            " \u001b[32m+\u001b[39m \u001b[1mpandas\u001b[0m\u001b[2m==2.2.2\u001b[0m\n",
            " \u001b[32m+\u001b[39m \u001b[1mpython-dateutil\u001b[0m\u001b[2m==2.9.0.post0\u001b[0m\n",
            " \u001b[32m+\u001b[39m \u001b[1mpytz\u001b[0m\u001b[2m==2024.1\u001b[0m\n",
            " \u001b[32m+\u001b[39m \u001b[1msix\u001b[0m\u001b[2m==1.16.0\u001b[0m\n",
            " \u001b[32m+\u001b[39m \u001b[1mtzdata\u001b[0m\u001b[2m==2024.1\u001b[0m\n"
          ]
        }
      ]
    },
    {
      "cell_type": "code",
      "source": [
        "# To list all the packages in the environment\n",
        "!uv pip list"
      ],
      "metadata": {
        "colab": {
          "base_uri": "https://localhost:8080/"
        },
        "id": "a_oE3w5KrVUz",
        "outputId": "512abfe5-4bcc-4f7f-e7cf-408d8fe6f0e4"
      },
      "execution_count": null,
      "outputs": [
        {
          "output_type": "stream",
          "name": "stdout",
          "text": [
            "Package         Version\n",
            "--------------- -----------\n",
            "numpy           2.0.0\n",
            "pandas          2.2.2\n",
            "python-dateutil 2.9.0.post0\n",
            "pytz            2024.1\n",
            "six             1.16.0\n",
            "tzdata          2024.1\n"
          ]
        }
      ]
    },
    {
      "cell_type": "code",
      "source": [
        "#To synchronize the packages of the environment to match with requirements.txt\n",
        "!uv pip sync requirements.txt"
      ],
      "metadata": {
        "colab": {
          "base_uri": "https://localhost:8080/"
        },
        "id": "f4qn8Bgkl8Fn",
        "outputId": "006b478b-7b62-477e-8098-4c62a277f59b"
      },
      "execution_count": null,
      "outputs": [
        {
          "output_type": "stream",
          "name": "stdout",
          "text": [
            "\u001b[37m⠋\u001b[0m \u001b[2mResolving dependencies...                                                     \u001b[0m\r\u001b[2K\u001b[37m⠙\u001b[0m \u001b[2mResolving dependencies...                                                     \u001b[0m\r\u001b[2K\u001b[37m⠋\u001b[0m \u001b[2mResolving dependencies...                                                     \u001b[0m\r\u001b[2K\u001b[37m⠙\u001b[0m \u001b[2mResolving dependencies...                                                     \u001b[0m\r\u001b[2K\u001b[37m⠋\u001b[0m \u001b[2mResolving dependencies...                                                     \u001b[0m\r\u001b[2K\u001b[37m⠙\u001b[0m \u001b[2mResolving dependencies...                                                     \u001b[0m\r\u001b[2K\u001b[37m⠙\u001b[0m \u001b[2mResolving dependencies...                                                     \u001b[0m\r\u001b[2K\u001b[37m⠙\u001b[0m \u001b[2mnumpy==2.0.0                                                                  \u001b[0m\r\u001b[2K\u001b[37m⠙\u001b[0m \u001b[2m                                                                              \u001b[0m\r\u001b[2K\u001b[2mResolved \u001b[1m1 package\u001b[0m \u001b[2min 12ms\u001b[0m\u001b[0m\n",
            "\u001b[2mUninstalled \u001b[1m5 packages\u001b[0m \u001b[2min 96ms\u001b[0m\u001b[0m\n",
            " \u001b[31m-\u001b[39m \u001b[1mpandas\u001b[0m\u001b[2m==2.2.2\u001b[0m\n",
            " \u001b[31m-\u001b[39m \u001b[1mpython-dateutil\u001b[0m\u001b[2m==2.9.0.post0\u001b[0m\n",
            " \u001b[31m-\u001b[39m \u001b[1mpytz\u001b[0m\u001b[2m==2024.1\u001b[0m\n",
            " \u001b[31m-\u001b[39m \u001b[1msix\u001b[0m\u001b[2m==1.16.0\u001b[0m\n",
            " \u001b[31m-\u001b[39m \u001b[1mtzdata\u001b[0m\u001b[2m==2024.1\u001b[0m\n"
          ]
        }
      ]
    },
    {
      "cell_type": "code",
      "source": [
        "!uv pip list"
      ],
      "metadata": {
        "colab": {
          "base_uri": "https://localhost:8080/"
        },
        "collapsed": true,
        "id": "nBMbewf1m5km",
        "outputId": "c69eea59-b244-4525-f45b-1b6e372c1528"
      },
      "execution_count": null,
      "outputs": [
        {
          "output_type": "stream",
          "name": "stdout",
          "text": [
            "Package Version\n",
            "------- -------\n",
            "numpy   2.0.0\n"
          ]
        }
      ]
    },
    {
      "cell_type": "code",
      "source": [
        "!uv pip install flask"
      ],
      "metadata": {
        "colab": {
          "base_uri": "https://localhost:8080/"
        },
        "collapsed": true,
        "id": "BTzLmPiBnRhb",
        "outputId": "f0a6a681-da9f-427f-8c14-49880ed161db"
      },
      "execution_count": null,
      "outputs": [
        {
          "output_type": "stream",
          "name": "stdout",
          "text": [
            "\u001b[37m⠋\u001b[0m \u001b[2mResolving dependencies...                                                     \u001b[0m\r\u001b[2K\u001b[37m⠙\u001b[0m \u001b[2mResolving dependencies...                                                     \u001b[0m\r\u001b[2K\u001b[37m⠋\u001b[0m \u001b[2mResolving dependencies...                                                     \u001b[0m\r\u001b[2K\u001b[37m⠙\u001b[0m \u001b[2mResolving dependencies...                                                     \u001b[0m\r\u001b[2K\u001b[37m⠋\u001b[0m \u001b[2mResolving dependencies...                                                     \u001b[0m\r\u001b[2K\u001b[37m⠙\u001b[0m \u001b[2mResolving dependencies...                                                     \u001b[0m\r\u001b[2K\u001b[37m⠋\u001b[0m \u001b[2mResolving dependencies...                                                     \u001b[0m\r\u001b[2K\u001b[37m⠙\u001b[0m \u001b[2mResolving dependencies...                                                     \u001b[0m\r\u001b[2K\u001b[37m⠙\u001b[0m \u001b[2mflask==3.0.3                                                                  \u001b[0m\r\u001b[2K\u001b[37m⠙\u001b[0m \u001b[2mwerkzeug==3.0.3                                                               \u001b[0m\r\u001b[2K\u001b[37m⠙\u001b[0m \u001b[2mjinja2==3.1.4                                                                 \u001b[0m\r\u001b[2K\u001b[37m⠙\u001b[0m \u001b[2mitsdangerous==2.2.0                                                           \u001b[0m\r\u001b[2K\u001b[37m⠙\u001b[0m \u001b[2mclick==8.1.7                                                                  \u001b[0m\r\u001b[2K\u001b[37m⠙\u001b[0m \u001b[2mblinker==1.8.2                                                                \u001b[0m\r\u001b[2K\u001b[37m⠙\u001b[0m \u001b[2mmarkupsafe==2.1.5                                                             \u001b[0m\r\u001b[2K\u001b[37m⠙\u001b[0m \u001b[2m                                                                              \u001b[0m\r\u001b[2K\u001b[2mResolved \u001b[1m7 packages\u001b[0m \u001b[2min 87ms\u001b[0m\u001b[0m\n",
            "\u001b[37m⠋\u001b[0m \u001b[2mPreparing packages...\u001b[0m (0/0)                                                   \r\u001b[2K\u001b[37m⠙\u001b[0m \u001b[2mPreparing packages...\u001b[0m (0/0)                                                   \r\u001b[2K\u001b[37m⠙\u001b[0m \u001b[2mPreparing packages...\u001b[0m (0/7)                                                   \r\u001b[2K\u001b[37m⠙\u001b[0m \u001b[2mPreparing packages...\u001b[0m (0/7)\n",
            "\u001b[2mflask     \u001b[0m \u001b[32m\u001b[2m------------------------------\u001b[0m\u001b[0m     0 B/101.73 kB                     \u001b[1A\r\u001b[2K\u001b[1B\r\u001b[2K\u001b[1A\u001b[37m⠙\u001b[0m \u001b[2mPreparing packages...\u001b[0m (0/7)\n",
            "\u001b[2mflask     \u001b[0m \u001b[32m-\u001b[2m-----------------------------\u001b[0m\u001b[0m 2.76 kB/101.73 kB                     \u001b[1A\r\u001b[2K\u001b[1B\r\u001b[2K\u001b[1A\u001b[37m⠙\u001b[0m \u001b[2mPreparing packages...\u001b[0m (0/7)\n",
            "\u001b[2mclick     \u001b[0m \u001b[32m\u001b[2m------------------------------\u001b[0m\u001b[0m     0 B/97.94 kB\n",
            "\u001b[2mflask     \u001b[0m \u001b[32m-\u001b[2m-----------------------------\u001b[0m\u001b[0m 2.76 kB/101.73 kB                     \u001b[2A\r\u001b[2K\u001b[1B\r\u001b[2K\u001b[1B\r\u001b[2K\u001b[2A\u001b[37m⠙\u001b[0m \u001b[2mPreparing packages...\u001b[0m (0/7)\n",
            "\u001b[2mclick     \u001b[0m \u001b[32m---\u001b[2m---------------------------\u001b[0m\u001b[0m 8.19 kB/97.94 kB\n",
            "\u001b[2mflask     \u001b[0m \u001b[32m-\u001b[2m-----------------------------\u001b[0m\u001b[0m 2.76 kB/101.73 kB                     \u001b[2A\r\u001b[2K\u001b[1B\r\u001b[2K\u001b[1B\r\u001b[2K\u001b[2A\u001b[37m⠙\u001b[0m \u001b[2mPreparing packages...\u001b[0m (0/7)\n",
            "\u001b[2mclick     \u001b[0m \u001b[32m---\u001b[2m---------------------------\u001b[0m\u001b[0m 8.19 kB/97.94 kB\n",
            "\u001b[2mflask     \u001b[0m \u001b[32m-\u001b[2m-----------------------------\u001b[0m\u001b[0m 2.76 kB/101.73 kB\n",
            "\u001b[2mwerkzeug  \u001b[0m \u001b[32m\u001b[2m------------------------------\u001b[0m\u001b[0m     0 B/227.27 kB                     \u001b[3A\r\u001b[2K\u001b[1B\r\u001b[2K\u001b[1B\r\u001b[2K\u001b[1B\r\u001b[2K\u001b[3A\u001b[37m⠙\u001b[0m \u001b[2mPreparing packages...\u001b[0m (0/7)\n",
            "\u001b[2mclick     \u001b[0m \u001b[32m---\u001b[2m---------------------------\u001b[0m\u001b[0m 8.19 kB/97.94 kB\n",
            "\u001b[2mflask     \u001b[0m \u001b[32m-\u001b[2m-----------------------------\u001b[0m\u001b[0m 2.76 kB/101.73 kB\n",
            "\u001b[2mwerkzeug  \u001b[0m \u001b[32m--\u001b[2m----------------------------\u001b[0m\u001b[0m 8.19 kB/227.27 kB                     \u001b[3A\r\u001b[2K\u001b[1B\r\u001b[2K\u001b[1B\r\u001b[2K\u001b[1B\r\u001b[2K\u001b[3A\u001b[37m⠙\u001b[0m \u001b[2mPreparing packages...\u001b[0m (0/7)\n",
            "\u001b[2mclick     \u001b[0m \u001b[32m---\u001b[2m---------------------------\u001b[0m\u001b[0m 8.19 kB/97.94 kB\n",
            "\u001b[2mflask     \u001b[0m \u001b[32m-\u001b[2m-----------------------------\u001b[0m\u001b[0m 2.76 kB/101.73 kB\n",
            "\u001b[2mjinja2    \u001b[0m \u001b[32m\u001b[2m------------------------------\u001b[0m\u001b[0m     0 B/133.27 kB\n",
            "\u001b[2mwerkzeug  \u001b[0m \u001b[32m--\u001b[2m----------------------------\u001b[0m\u001b[0m 8.19 kB/227.27 kB                     \u001b[4A\r\u001b[2K\u001b[1B\r\u001b[2K\u001b[1B\r\u001b[2K\u001b[1B\r\u001b[2K\u001b[1B\r\u001b[2K\u001b[4A\u001b[37m⠙\u001b[0m \u001b[2mPreparing packages...\u001b[0m (0/7)\n",
            "\u001b[2mclick     \u001b[0m \u001b[32m---\u001b[2m---------------------------\u001b[0m\u001b[0m 8.19 kB/97.94 kB\n",
            "\u001b[2mflask     \u001b[0m \u001b[32m-\u001b[2m-----------------------------\u001b[0m\u001b[0m 2.76 kB/101.73 kB\n",
            "\u001b[2mjinja2    \u001b[0m \u001b[32m-\u001b[2m-----------------------------\u001b[0m\u001b[0m 2.76 kB/133.27 kB\n",
            "\u001b[2mwerkzeug  \u001b[0m \u001b[32m--\u001b[2m----------------------------\u001b[0m\u001b[0m 8.19 kB/227.27 kB                     \u001b[4A\r\u001b[2K\u001b[1B\r\u001b[2K\u001b[1B\r\u001b[2K\u001b[1B\r\u001b[2K\u001b[1B\r\u001b[2K\u001b[4A\u001b[37m⠙\u001b[0m \u001b[2mPreparing packages...\u001b[0m (0/7)\n",
            "\u001b[2mclick     \u001b[0m \u001b[32m------\u001b[2m------------------------\u001b[0m\u001b[0m 16.38 kB/97.94 kB\n",
            "\u001b[2mflask     \u001b[0m \u001b[32m-\u001b[2m-----------------------------\u001b[0m\u001b[0m 2.76 kB/101.73 kB\n",
            "\u001b[2mjinja2    \u001b[0m \u001b[32m-\u001b[2m-----------------------------\u001b[0m\u001b[0m 2.76 kB/133.27 kB\n",
            "\u001b[2mwerkzeug  \u001b[0m \u001b[32m--\u001b[2m----------------------------\u001b[0m\u001b[0m 8.19 kB/227.27 kB                     \u001b[4A\r\u001b[2K\u001b[1B\r\u001b[2K\u001b[1B\r\u001b[2K\u001b[1B\r\u001b[2K\u001b[1B\r\u001b[2K\u001b[4A\u001b[37m⠙\u001b[0m \u001b[2mPreparing packages...\u001b[0m (0/7)\n",
            "\u001b[2mclick     \u001b[0m \u001b[32m------\u001b[2m------------------------\u001b[0m\u001b[0m 16.38 kB/97.94 kB\n",
            "\u001b[2mflask     \u001b[0m \u001b[32m---\u001b[2m---------------------------\u001b[0m\u001b[0m 6.89 kB/101.73 kB\n",
            "\u001b[2mjinja2    \u001b[0m \u001b[32m-\u001b[2m-----------------------------\u001b[0m\u001b[0m 2.76 kB/133.27 kB\n",
            "\u001b[2mwerkzeug  \u001b[0m \u001b[32m--\u001b[2m----------------------------\u001b[0m\u001b[0m 8.19 kB/227.27 kB                     \u001b[4A\r\u001b[2K\u001b[1B\r\u001b[2K\u001b[1B\r\u001b[2K\u001b[1B\r\u001b[2K\u001b[1B\r\u001b[2K\u001b[4A\u001b[37m⠙\u001b[0m \u001b[2mPreparing packages...\u001b[0m (0/7)\n",
            "\u001b[2mclick     \u001b[0m \u001b[32m------\u001b[2m------------------------\u001b[0m\u001b[0m 16.38 kB/97.94 kB\n",
            "\u001b[2mflask     \u001b[0m \u001b[32m----\u001b[2m--------------------------\u001b[0m\u001b[0m 11.02 kB/101.73 kB\n",
            "\u001b[2mjinja2    \u001b[0m \u001b[32m-\u001b[2m-----------------------------\u001b[0m\u001b[0m 2.76 kB/133.27 kB\n",
            "\u001b[2mwerkzeug  \u001b[0m \u001b[32m--\u001b[2m----------------------------\u001b[0m\u001b[0m 8.19 kB/227.27 kB                     \u001b[4A\r\u001b[2K\u001b[1B\r\u001b[2K\u001b[1B\r\u001b[2K\u001b[1B\r\u001b[2K\u001b[1B\r\u001b[2K\u001b[4A\u001b[37m⠙\u001b[0m \u001b[2mPreparing packages...\u001b[0m (0/7)\n",
            "\u001b[2mclick     \u001b[0m \u001b[32m------\u001b[2m------------------------\u001b[0m\u001b[0m 16.38 kB/97.94 kB\n",
            "\u001b[2mflask     \u001b[0m \u001b[32m-----\u001b[2m-------------------------\u001b[0m\u001b[0m 15.16 kB/101.73 kB\n",
            "\u001b[2mjinja2    \u001b[0m \u001b[32m-\u001b[2m-----------------------------\u001b[0m\u001b[0m 2.76 kB/133.27 kB\n",
            "\u001b[2mwerkzeug  \u001b[0m \u001b[32m--\u001b[2m----------------------------\u001b[0m\u001b[0m 8.19 kB/227.27 kB                     \u001b[4A\r\u001b[2K\u001b[1B\r\u001b[2K\u001b[1B\r\u001b[2K\u001b[1B\r\u001b[2K\u001b[1B\r\u001b[2K\u001b[4A\u001b[37m⠙\u001b[0m \u001b[2mPreparing packages...\u001b[0m (0/7)\n",
            "\u001b[2mclick     \u001b[0m \u001b[32m------\u001b[2m------------------------\u001b[0m\u001b[0m 16.38 kB/97.94 kB\n",
            "\u001b[2mflask     \u001b[0m \u001b[32m-----\u001b[2m-------------------------\u001b[0m\u001b[0m 15.27 kB/101.73 kB\n",
            "\u001b[2mjinja2    \u001b[0m \u001b[32m-\u001b[2m-----------------------------\u001b[0m\u001b[0m 2.76 kB/133.27 kB\n",
            "\u001b[2mwerkzeug  \u001b[0m \u001b[32m--\u001b[2m----------------------------\u001b[0m\u001b[0m 8.19 kB/227.27 kB                     \u001b[4A\r\u001b[2K\u001b[1B\r\u001b[2K\u001b[1B\r\u001b[2K\u001b[1B\r\u001b[2K\u001b[1B\r\u001b[2K\u001b[4A\u001b[37m⠙\u001b[0m \u001b[2mPreparing packages...\u001b[0m (0/7)\n",
            "\u001b[2mclick     \u001b[0m \u001b[32m------\u001b[2m------------------------\u001b[0m\u001b[0m 16.38 kB/97.94 kB\n",
            "\u001b[2mflask     \u001b[0m \u001b[32m-----\u001b[2m-------------------------\u001b[0m\u001b[0m 15.27 kB/101.73 kB\n",
            "\u001b[2mjinja2    \u001b[0m \u001b[32m--\u001b[2m----------------------------\u001b[0m\u001b[0m 6.89 kB/133.27 kB\n",
            "\u001b[2mwerkzeug  \u001b[0m \u001b[32m--\u001b[2m----------------------------\u001b[0m\u001b[0m 8.19 kB/227.27 kB                     \u001b[4A\r\u001b[2K\u001b[1B\r\u001b[2K\u001b[1B\r\u001b[2K\u001b[1B\r\u001b[2K\u001b[1B\r\u001b[2K\u001b[4A\u001b[37m⠙\u001b[0m \u001b[2mPreparing packages...\u001b[0m (0/7)\n",
            "\u001b[2mclick     \u001b[0m \u001b[32m------\u001b[2m------------------------\u001b[0m\u001b[0m 16.38 kB/97.94 kB\n",
            "\u001b[2mflask     \u001b[0m \u001b[32m-------\u001b[2m-----------------------\u001b[0m\u001b[0m 23.46 kB/101.73 kB\n",
            "\u001b[2mjinja2    \u001b[0m \u001b[32m--\u001b[2m----------------------------\u001b[0m\u001b[0m 6.89 kB/133.27 kB\n",
            "\u001b[2mwerkzeug  \u001b[0m \u001b[32m--\u001b[2m----------------------------\u001b[0m\u001b[0m 8.19 kB/227.27 kB                     \u001b[4A\r\u001b[2K\u001b[1B\r\u001b[2K\u001b[1B\r\u001b[2K\u001b[1B\r\u001b[2K\u001b[1B\r\u001b[2K\u001b[4A\u001b[37m⠙\u001b[0m \u001b[2mPreparing packages...\u001b[0m (0/7)\n",
            "\u001b[2mclick     \u001b[0m \u001b[32m------\u001b[2m------------------------\u001b[0m\u001b[0m 16.38 kB/97.94 kB\n",
            "\u001b[2mflask     \u001b[0m \u001b[32m-------\u001b[2m-----------------------\u001b[0m\u001b[0m 23.46 kB/101.73 kB\n",
            "\u001b[2mjinja2    \u001b[0m \u001b[32m--\u001b[2m----------------------------\u001b[0m\u001b[0m 6.89 kB/133.27 kB\n",
            "\u001b[2mwerkzeug  \u001b[0m \u001b[32m---\u001b[2m---------------------------\u001b[0m\u001b[0m 16.38 kB/227.27 kB                    \u001b[4A\r\u001b[2K\u001b[1B\r\u001b[2K\u001b[1B\r\u001b[2K\u001b[1B\r\u001b[2K\u001b[1B\r\u001b[2K\u001b[4A\u001b[37m⠙\u001b[0m \u001b[2mPreparing packages...\u001b[0m (0/7)\n",
            "\u001b[2mclick     \u001b[0m \u001b[32m------\u001b[2m------------------------\u001b[0m\u001b[0m 16.38 kB/97.94 kB\n",
            "\u001b[2mflask     \u001b[0m \u001b[32m-------\u001b[2m-----------------------\u001b[0m\u001b[0m 23.46 kB/101.73 kB\n",
            "\u001b[2mjinja2    \u001b[0m \u001b[32m---\u001b[2m---------------------------\u001b[0m\u001b[0m 11.02 kB/133.27 kB\n",
            "\u001b[2mwerkzeug  \u001b[0m \u001b[32m---\u001b[2m---------------------------\u001b[0m\u001b[0m 16.38 kB/227.27 kB                    \u001b[4A\r\u001b[2K\u001b[1B\r\u001b[2K\u001b[1B\r\u001b[2K\u001b[1B\r\u001b[2K\u001b[1B\r\u001b[2K\u001b[4A\u001b[37m⠙\u001b[0m \u001b[2mPreparing packages...\u001b[0m (0/7)\n",
            "\u001b[2mitsdangerous\u001b[0m \u001b[32m-----------------------------\u001b[2m-\u001b[0m\u001b[0m 15.16 kB/16.23 kB\n",
            "\u001b[2mmarkupsafe\u001b[0m \u001b[32m------------------------------\u001b[2m\u001b[0m\u001b[0m 25.82 kB/25.82 kB\n",
            "\u001b[2mclick     \u001b[0m \u001b[32m------------------------------\u001b[2m\u001b[0m\u001b[0m 97.94 kB/97.94 kB\n",
            "\u001b[2mflask     \u001b[0m \u001b[32m-------------------\u001b[2m-----------\u001b[0m\u001b[0m 64.42 kB/101.73 kB\n",
            "\u001b[2mjinja2    \u001b[0m \u001b[32m-------------------\u001b[2m-----------\u001b[0m\u001b[0m 80.81 kB/133.27 kB\n",
            "\u001b[2mwerkzeug  \u001b[0m \u001b[32m-------------\u001b[2m-----------------\u001b[0m\u001b[0m 98.30 kB/227.27 kB                    \u001b[6A\r\u001b[2K\u001b[1B\r\u001b[2K\u001b[1B\r\u001b[2K\u001b[1B\r\u001b[2K\u001b[1B\r\u001b[2K\u001b[1B\r\u001b[2K\u001b[1B\r\u001b[2K\u001b[6A\u001b[37m⠙\u001b[0m \u001b[2mPreparing packages...\u001b[0m (0/7)\n",
            "\u001b[2mitsdangerous\u001b[0m \u001b[32m-----------------------------\u001b[2m-\u001b[0m\u001b[0m 15.16 kB/16.23 kB\n",
            "\u001b[2mclick     \u001b[0m \u001b[32m------------------------------\u001b[2m\u001b[0m\u001b[0m 97.94 kB/97.94 kB\n",
            "\u001b[2mflask     \u001b[0m \u001b[32m------------------------\u001b[2m------\u001b[0m\u001b[0m 80.81 kB/101.73 kB\n",
            "\u001b[2mjinja2    \u001b[0m \u001b[32m----------------------\u001b[2m--------\u001b[0m\u001b[0m 97.20 kB/133.27 kB\n",
            "\u001b[2mwerkzeug  \u001b[0m \u001b[32m-------------\u001b[2m-----------------\u001b[0m\u001b[0m 98.30 kB/227.27 kB                    \u001b[5A\r\u001b[2K\u001b[1B\r\u001b[2K\u001b[1B\r\u001b[2K\u001b[1B\r\u001b[2K\u001b[1B\r\u001b[2K\u001b[1B\r\u001b[2K\u001b[5A\u001b[37m⠙\u001b[0m \u001b[2mPreparing packages...\u001b[0m (0/7)\n",
            "\u001b[2mclick     \u001b[0m \u001b[32m------------------------------\u001b[2m\u001b[0m\u001b[0m 97.94 kB/97.94 kB\n",
            "\u001b[2mflask     \u001b[0m \u001b[32m------------------------\u001b[2m------\u001b[0m\u001b[0m 80.81 kB/101.73 kB\n",
            "\u001b[2mjinja2    \u001b[0m \u001b[32m----------------------\u001b[2m--------\u001b[0m\u001b[0m 97.20 kB/133.27 kB\n",
            "\u001b[2mwerkzeug  \u001b[0m \u001b[32m-------------\u001b[2m-----------------\u001b[0m\u001b[0m 98.30 kB/227.27 kB                    \u001b[4A\r\u001b[2K\u001b[1B\r\u001b[2K\u001b[1B\r\u001b[2K\u001b[1B\r\u001b[2K\u001b[1B\r\u001b[2K\u001b[4A\u001b[37m⠙\u001b[0m \u001b[2mPreparing packages...\u001b[0m (0/7)\n",
            "\u001b[2mflask     \u001b[0m \u001b[32m------------------------\u001b[2m------\u001b[0m\u001b[0m 80.81 kB/101.73 kB\n",
            "\u001b[2mjinja2    \u001b[0m \u001b[32m----------------------\u001b[2m--------\u001b[0m\u001b[0m 97.20 kB/133.27 kB\n",
            "\u001b[2mwerkzeug  \u001b[0m \u001b[32m-------------\u001b[2m-----------------\u001b[0m\u001b[0m 98.30 kB/227.27 kB                    \u001b[3A\r\u001b[2K\u001b[1B\r\u001b[2K\u001b[1B\r\u001b[2K\u001b[1B\r\u001b[2K\u001b[3A\u001b[37m⠙\u001b[0m \u001b[2mPreparing packages...\u001b[0m (0/7)\n",
            "\u001b[2mjinja2    \u001b[0m \u001b[32m------------------------------\u001b[2m\u001b[0m\u001b[0m 129.96 kB/133.27 kB\n",
            "\u001b[2mwerkzeug  \u001b[0m \u001b[32m----------------\u001b[2m--------------\u001b[0m\u001b[0m 114.69 kB/227.27 kB                   \u001b[2A\r\u001b[2K\u001b[1B\r\u001b[2K\u001b[1B\r\u001b[2K\u001b[2A\u001b[37m⠙\u001b[0m \u001b[2mPreparing packages...\u001b[0m (0/7)\n",
            "\u001b[2mwerkzeug  \u001b[0m \u001b[32m------------------\u001b[2m------------\u001b[0m\u001b[0m 131.07 kB/227.27 kB                   \u001b[1A\r\u001b[2K\u001b[1B\r\u001b[2K\u001b[1A\u001b[37m⠙\u001b[0m \u001b[2mPreparing packages...\u001b[0m (0/7)                                                   \r\u001b[2K\u001b[37m⠙\u001b[0m \u001b[2m\u001b[0m (7/7)                                                                        \r\u001b[2K\u001b[2mPrepared \u001b[1m7 packages\u001b[0m \u001b[2min 50ms\u001b[0m\u001b[0m\n",
            "░░░░░░░░░░░░░░░░░░░░ [0/0] \u001b[2mInstalling wheels...                                 \u001b[0m\r\u001b[2K░░░░░░░░░░░░░░░░░░░░ [0/7] \u001b[2mInstalling wheels...                                 \u001b[0m\r\u001b[2K░░░░░░░░░░░░░░░░░░░░ [0/7] \u001b[2mblinker==1.8.2                                       \u001b[0m\r\u001b[2K██░░░░░░░░░░░░░░░░░░ [1/7] \u001b[2mblinker==1.8.2                                       \u001b[0m\r\u001b[2K██░░░░░░░░░░░░░░░░░░ [1/7] \u001b[2mclick==8.1.7                                         \u001b[0m\r\u001b[2K█████░░░░░░░░░░░░░░░ [2/7] \u001b[2mclick==8.1.7                                         \u001b[0m\r\u001b[2K█████░░░░░░░░░░░░░░░ [2/7] \u001b[2mmarkupsafe==2.1.5                                    \u001b[0m\r\u001b[2K████████░░░░░░░░░░░░ [3/7] \u001b[2mmarkupsafe==2.1.5                                    \u001b[0m\r\u001b[2K████████░░░░░░░░░░░░ [3/7] \u001b[2mitsdangerous==2.2.0                                  \u001b[0m\r\u001b[2K███████████░░░░░░░░░ [4/7] \u001b[2mitsdangerous==2.2.0                                  \u001b[0m\r\u001b[2K███████████░░░░░░░░░ [4/7] \u001b[2mjinja2==3.1.4                                        \u001b[0m\r\u001b[2K██████████████░░░░░░ [5/7] \u001b[2mjinja2==3.1.4                                        \u001b[0m\r\u001b[2K██████████████░░░░░░ [5/7] \u001b[2mflask==3.0.3                                         \u001b[0m\r\u001b[2K█████████████████░░░ [6/7] \u001b[2mflask==3.0.3                                         \u001b[0m\r\u001b[2K█████████████████░░░ [6/7] \u001b[2mwerkzeug==3.0.3                                      \u001b[0m\r\u001b[2K████████████████████ [7/7] \u001b[2mwerkzeug==3.0.3                                      \u001b[0m\r\u001b[2K\u001b[2mInstalled \u001b[1m7 packages\u001b[0m \u001b[2min 9ms\u001b[0m\u001b[0m\n",
            " \u001b[32m+\u001b[39m \u001b[1mblinker\u001b[0m\u001b[2m==1.8.2\u001b[0m\n",
            " \u001b[32m+\u001b[39m \u001b[1mclick\u001b[0m\u001b[2m==8.1.7\u001b[0m\n",
            " \u001b[32m+\u001b[39m \u001b[1mflask\u001b[0m\u001b[2m==3.0.3\u001b[0m\n",
            " \u001b[32m+\u001b[39m \u001b[1mitsdangerous\u001b[0m\u001b[2m==2.2.0\u001b[0m\n",
            " \u001b[32m+\u001b[39m \u001b[1mjinja2\u001b[0m\u001b[2m==3.1.4\u001b[0m\n",
            " \u001b[32m+\u001b[39m \u001b[1mmarkupsafe\u001b[0m\u001b[2m==2.1.5\u001b[0m\n",
            " \u001b[32m+\u001b[39m \u001b[1mwerkzeug\u001b[0m\u001b[2m==3.0.3\u001b[0m\n"
          ]
        }
      ]
    },
    {
      "cell_type": "code",
      "source": [
        "!uv pip freeze > requirements.txt"
      ],
      "metadata": {
        "id": "LPlcfvc7nqSE"
      },
      "execution_count": null,
      "outputs": []
    },
    {
      "cell_type": "code",
      "source": [
        "# to list all the packages in the environment\n",
        "!uv pip list"
      ],
      "metadata": {
        "colab": {
          "base_uri": "https://localhost:8080/"
        },
        "id": "VdBA70Tgo8jh",
        "outputId": "4a0693b7-39f9-40bc-e412-a74a388b30d3"
      },
      "execution_count": null,
      "outputs": [
        {
          "output_type": "stream",
          "name": "stdout",
          "text": [
            "Package      Version\n",
            "------------ -------\n",
            "blinker      1.8.2\n",
            "click        8.1.7\n",
            "flask        3.0.3\n",
            "itsdangerous 2.2.0\n",
            "jinja2       3.1.4\n",
            "markupsafe   2.1.5\n",
            "numpy        2.0.0\n",
            "werkzeug     3.0.3\n"
          ]
        }
      ]
    },
    {
      "cell_type": "code",
      "source": [],
      "metadata": {
        "id": "upa0qu42pBeA"
      },
      "execution_count": null,
      "outputs": []
    }
  ]
}