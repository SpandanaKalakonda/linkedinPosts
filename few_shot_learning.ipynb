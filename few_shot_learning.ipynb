{
  "nbformat": 4,
  "nbformat_minor": 0,
  "metadata": {
    "colab": {
      "provenance": [],
      "authorship_tag": "ABX9TyPLaVgOk/KYlP0sQBUZOr3J",
      "include_colab_link": true
    },
    "kernelspec": {
      "name": "python3",
      "display_name": "Python 3"
    },
    "language_info": {
      "name": "python"
    }
  },
  "cells": [
    {
      "cell_type": "markdown",
      "metadata": {
        "id": "view-in-github",
        "colab_type": "text"
      },
      "source": [
        "<a href=\"https://colab.research.google.com/github/SpandanaKalakonda/linkedinPosts/blob/main/few_shot_learning.ipynb\" target=\"_parent\"><img src=\"https://colab.research.google.com/assets/colab-badge.svg\" alt=\"Open In Colab\"/></a>"
      ]
    },
    {
      "cell_type": "code",
      "source": [
        "import os\n",
        "import tensorflow as tf\n",
        "from tensorflow.keras import layers, models, optimizers\n",
        "from keras.preprocessing import image\n",
        "from tensorflow.keras.preprocessing.image import (\n",
        "    load_img,\n",
        "    img_to_array)\n",
        "import numpy as np\n",
        "from PIL import Image\n",
        "import matplotlib.pyplot as plt"
      ],
      "metadata": {
        "id": "J0EgEG6-S4SR"
      },
      "execution_count": 196,
      "outputs": []
    },
    {
      "cell_type": "code",
      "source": [
        "def create_siamese_network(input_shape):\n",
        "    # Define the input layer\n",
        "    input_layer = layers.Input(shape=input_shape)\n",
        "\n",
        "    # Shared subnetwork (branch)\n",
        "    shared_branch = models.Sequential([\n",
        "        layers.Flatten(),\n",
        "        layers.Dense(256, activation='relu'),\n",
        "        layers.Dense(128, activation='relu'),\n",
        "        layers.Dense(64, activation='sigmoid'),\n",
        "        layers.Dense(32, activation='softmax')\n",
        "    ])\n",
        "\n",
        "    # Apply the shared subnetwork to both inputs\n",
        "    output_a = shared_branch(input_layer)\n",
        "    output_b = shared_branch(input_layer)\n",
        "\n",
        "    # Output layer: Concatenate or use a distance measure\n",
        "    # For simplicity, using Concatenate here\n",
        "    concatenated_output = layers.Concatenate()([output_a, output_b])\n",
        "\n",
        "    model = models.Model(inputs=input_layer, outputs=concatenated_output)\n",
        "    return model\n"
      ],
      "metadata": {
        "id": "6VD505OUTgQD"
      },
      "execution_count": 197,
      "outputs": []
    },
    {
      "cell_type": "code",
      "source": [
        "#Siamese pair\n",
        "def create_siamese_pair(num_classes, input_shape=(28, 28)):\n",
        "    # Create Siamese network\n",
        "    base_network = create_siamese_network(input_shape)\n",
        "\n",
        "    # Define two input layers for pairs\n",
        "    input_a = layers.Input(shape=input_shape)\n",
        "    input_b = layers.Input(shape=input_shape)\n",
        "\n",
        "    # Apply Siamese network to both inputs\n",
        "    output_a = base_network(input_a)\n",
        "    output_b = base_network(input_b)\n",
        "\n",
        "    # Calculate L1 distance\n",
        "    l1_distance = layers.Lambda(lambda x: tf.keras.backend.abs(x[0] - x[1]))([output_a, output_b])\n",
        "\n",
        "    # Use a dense layer with sigmoid activation\n",
        "    classification_output = layers.Dense(1, activation='sigmoid')(l1_distance)\n",
        "\n",
        "    # Create Siamese pair model\n",
        "    siamese_pair_model = models.Model(inputs=[input_a, input_b], outputs=classification_output)\n",
        "    optimizer = optimizers.Adam(learning_rate=0.01)\n",
        "    # Compile the model with binary crossentropy loss\n",
        "    siamese_pair_model.compile(optimizer=optimizer, loss='contrastive_loss', metrics=['accuracy'])\n",
        "\n",
        "    return siamese_pair_model\n"
      ],
      "metadata": {
        "id": "s482k0cNUdmU"
      },
      "execution_count": 198,
      "outputs": []
    },
    {
      "cell_type": "code",
      "source": [
        "def preprocess_image(img):\n",
        "    img = img.resize((28, 28), resample=Image.LANCZOS).convert('L')  # Resize and convert to grayscale\n",
        "    img_array = np.array(img) / 255.0\n",
        "    return img_array"
      ],
      "metadata": {
        "id": "hrEQTRSbXs8m"
      },
      "execution_count": 199,
      "outputs": []
    },
    {
      "cell_type": "code",
      "source": [
        "image_gucci1 = Image.open('/content/gucci_logo1.jpeg')\n",
        "image_gucci2 = Image.open('/content/gucci_logo2.jpeg')\n",
        "image_doremon1 = Image.open('/content/doremon_1.png')\n",
        "image_doremon2 = Image.open('/content/doremon_2.png')\n",
        "image_nobita = Image.open(\"/content/nobita.jpeg\")\n",
        "image_nobita2 = Image.open(\"/content/nobita2.jpeg\")\n",
        "image_bat1 = Image.open(\"/content/circket_bat1.jpeg\")\n",
        "image_bat2 = Image.open(\"/content/circket_bat2.jpeg\")"
      ],
      "metadata": {
        "id": "mWs4WjT3YSkZ"
      },
      "execution_count": 200,
      "outputs": []
    },
    {
      "cell_type": "code",
      "source": [
        "# Display the images in a 1x2 grid\n",
        "plt.subplot(1, 2, 1)\n",
        "plt.imshow(image_gucci1)\n",
        "plt.axis('off')  # Hide axes\n",
        "\n",
        "plt.subplot(1, 2, 2)\n",
        "plt.imshow(image_gucci2)\n",
        "plt.axis('off')  # Hide axes\n",
        "\n",
        "plt.show()"
      ],
      "metadata": {
        "id": "dsOnuhwnd6bK"
      },
      "execution_count": null,
      "outputs": []
    },
    {
      "cell_type": "code",
      "source": [
        "gucci_logo_1 = preprocess_image(image_gucci1)\n",
        "gucci_logo_2 = preprocess_image(image_gucci2)\n",
        "doremon_1 = preprocess_image(image_doremon1)\n",
        "doremon_2 = preprocess_image(image_doremon2)\n",
        "nobita = preprocess_image(image_nobita)\n",
        "nobita2 = preprocess_image(image_nobita2)\n",
        "bat1 = preprocess_image(image_bat1)\n",
        "bat2 = preprocess_image(image_bat2)"
      ],
      "metadata": {
        "id": "-MRDgQYdcScY"
      },
      "execution_count": 202,
      "outputs": []
    },
    {
      "cell_type": "code",
      "source": [
        "pairs = [\n",
        "    (gucci_logo_1, gucci_logo_2),  # Pair of Gucci logos\n",
        "    (doremon_1, doremon_2),# Pair of Chanel logos\n",
        "    (nobita, nobita2),\n",
        "    (bat1, bat2)\n",
        "     # Add more pairs as needed\n",
        "]"
      ],
      "metadata": {
        "id": "_h8ua-Zb3I8g"
      },
      "execution_count": 203,
      "outputs": []
    },
    {
      "cell_type": "code",
      "source": [
        "num_classes = 4\n",
        "siamese_pair_model = create_siamese_pair(num_classes)"
      ],
      "metadata": {
        "id": "ChhH_eFyTOGD"
      },
      "execution_count": 204,
      "outputs": []
    },
    {
      "cell_type": "code",
      "source": [
        "# Create a pair for prediction\n",
        "pair_for_prediction = np.array([[doremon_1,doremon_2]])\n",
        "\n",
        "# Make predictions using the trained Siamese model\n",
        "predictions = siamese_pair_model.predict([pair_for_prediction[:, 0], pair_for_prediction[:, 1]])\n",
        "\n",
        "# Print the predicted similarity score\n",
        "print(\"Similarity Score:\", predictions[0][0])\n"
      ],
      "metadata": {
        "id": "07L0valIWzib",
        "colab": {
          "base_uri": "https://localhost:8080/"
        },
        "outputId": "fc1b74f6-f26c-43db-95f4-be90b173324e"
      },
      "execution_count": 213,
      "outputs": [
        {
          "output_type": "stream",
          "name": "stdout",
          "text": [
            "1/1 [==============================] - 0s 29ms/step\n",
            "Similarity Score: 0.500201\n"
          ]
        }
      ]
    },
    {
      "cell_type": "code",
      "source": [
        "# Create a pair for prediction\n",
        "pair_for_prediction = np.array([[gucci_logo_1,gucci_logo_2]])\n",
        "\n",
        "# Make predictions using the trained Siamese model\n",
        "predictions = siamese_pair_model.predict([pair_for_prediction[:, 0], pair_for_prediction[:, 1]])\n",
        "\n",
        "# Print the predicted similarity score\n",
        "print(\"Similarity Score:\", predictions[0][0])\n"
      ],
      "metadata": {
        "colab": {
          "base_uri": "https://localhost:8080/"
        },
        "id": "GT5RyQeJf4Wl",
        "outputId": "bcf87c45-4e5a-4101-d7b0-3efcb8cf4166"
      },
      "execution_count": 214,
      "outputs": [
        {
          "output_type": "stream",
          "name": "stdout",
          "text": [
            "1/1 [==============================] - 0s 28ms/step\n",
            "Similarity Score: 0.50046504\n"
          ]
        }
      ]
    },
    {
      "cell_type": "code",
      "source": [
        "# Create a pair for prediction\n",
        "pair_for_prediction = np.array([[nobita,nobita2]])\n",
        "\n",
        "# Make predictions using the trained Siamese model\n",
        "predictions = siamese_pair_model.predict([pair_for_prediction[:, 0], pair_for_prediction[:, 1]])\n",
        "\n",
        "# Print the predicted similarity score\n",
        "print(\"Similarity Score:\", predictions[0][0])\n"
      ],
      "metadata": {
        "colab": {
          "base_uri": "https://localhost:8080/"
        },
        "id": "LSC0EcXwgCnE",
        "outputId": "9a3844e1-097b-44b4-ba49-fc145a5f596f"
      },
      "execution_count": 215,
      "outputs": [
        {
          "output_type": "stream",
          "name": "stdout",
          "text": [
            "1/1 [==============================] - 0s 28ms/step\n",
            "Similarity Score: 0.50025076\n"
          ]
        }
      ]
    },
    {
      "cell_type": "code",
      "source": [
        "# Create a pair for prediction\n",
        "pair_for_prediction = np.array([[nobita, doremon_2]])\n",
        "\n",
        "# Make predictions using the trained Siamese model\n",
        "predictions = siamese_pair_model.predict([pair_for_prediction[:, 0], pair_for_prediction[:, 1]])\n",
        "\n",
        "# Print the predicted similarity score\n",
        "print(\"Similarity Score:\", predictions[0][0])"
      ],
      "metadata": {
        "colab": {
          "base_uri": "https://localhost:8080/"
        },
        "id": "JcS_2HwS4eP9",
        "outputId": "6704b26b-f711-43ca-839c-5cb1ddd188ba"
      },
      "execution_count": 218,
      "outputs": [
        {
          "output_type": "stream",
          "name": "stdout",
          "text": [
            "1/1 [==============================] - 0s 24ms/step\n",
            "Similarity Score: 0.50026554\n"
          ]
        }
      ]
    },
    {
      "cell_type": "code",
      "source": [],
      "metadata": {
        "id": "jMIkOKyY7gU7"
      },
      "execution_count": 208,
      "outputs": []
    }
  ]
}