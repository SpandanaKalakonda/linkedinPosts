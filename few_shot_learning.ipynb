{
  "nbformat": 4,
  "nbformat_minor": 0,
  "metadata": {
    "colab": {
      "provenance": [],
      "authorship_tag": "ABX9TyP2R7wXjO2K4dV0yogK4H5u",
      "include_colab_link": true
    },
    "kernelspec": {
      "name": "python3",
      "display_name": "Python 3"
    },
    "language_info": {
      "name": "python"
    }
  },
  "cells": [
    {
      "cell_type": "markdown",
      "metadata": {
        "id": "view-in-github",
        "colab_type": "text"
      },
      "source": [
        "<a href=\"https://colab.research.google.com/github/SpandanaKalakonda/linkedinPosts/blob/main/few_shot_learning.ipynb\" target=\"_parent\"><img src=\"https://colab.research.google.com/assets/colab-badge.svg\" alt=\"Open In Colab\"/></a>"
      ]
    },
    {
      "cell_type": "code",
      "source": [
        "import os\n",
        "import tensorflow as tf\n",
        "from tensorflow.keras import layers, models, optimizers\n",
        "from keras.preprocessing import image\n",
        "from tensorflow.keras.preprocessing.image import (\n",
        "    load_img,\n",
        "    img_to_array)\n",
        "import numpy as np\n",
        "from PIL import Image\n",
        "import matplotlib.pyplot as plt"
      ],
      "metadata": {
        "id": "J0EgEG6-S4SR"
      },
      "execution_count": 219,
      "outputs": []
    },
    {
      "cell_type": "code",
      "source": [
        "def create_siamese_network(input_shape):\n",
        "    # Define the input layer\n",
        "    input_layer = layers.Input(shape=input_shape)\n",
        "\n",
        "    # Shared subnetwork (branch)\n",
        "    shared_branch = models.Sequential([\n",
        "        layers.Flatten(),\n",
        "        layers.Dense(256, activation='relu'),\n",
        "        layers.Dense(128, activation='relu'),\n",
        "        layers.Dense(64, activation='sigmoid'),\n",
        "        layers.Dense(32, activation='softmax')\n",
        "    ])\n",
        "\n",
        "    # Apply the shared subnetwork to both inputs\n",
        "    output_a = shared_branch(input_layer)\n",
        "    output_b = shared_branch(input_layer)\n",
        "\n",
        "    concatenated_output = layers.Concatenate()([output_a, output_b])\n",
        "\n",
        "    model = models.Model(inputs=input_layer, outputs=concatenated_output)\n",
        "    return model\n"
      ],
      "metadata": {
        "id": "6VD505OUTgQD"
      },
      "execution_count": 220,
      "outputs": []
    },
    {
      "cell_type": "code",
      "source": [
        "#Siamese pair\n",
        "def create_siamese_pair(num_classes, input_shape=(28, 28)):\n",
        "    # Create Siamese network\n",
        "    base_network = create_siamese_network(input_shape)\n",
        "\n",
        "    # Define two input layers for pairs\n",
        "    input_a = layers.Input(shape=input_shape)\n",
        "    input_b = layers.Input(shape=input_shape)\n",
        "\n",
        "    # Apply Siamese network to both inputs\n",
        "    output_a = base_network(input_a)\n",
        "    output_b = base_network(input_b)\n",
        "\n",
        "    # Calculate L1 distance\n",
        "    l1_distance = layers.Lambda(lambda x: tf.keras.backend.abs(x[0] - x[1]))([output_a, output_b])\n",
        "\n",
        "    # Use a dense layer with sigmoid activation\n",
        "    classification_output = layers.Dense(1, activation='sigmoid')(l1_distance)\n",
        "\n",
        "    # Create Siamese pair model\n",
        "    siamese_pair_model = models.Model(inputs=[input_a, input_b], outputs=classification_output)\n",
        "    optimizer = optimizers.Adam(learning_rate=0.01)\n",
        "    # Compile the model\n",
        "    siamese_pair_model.compile(optimizer=optimizer, loss='contrastive_loss', metrics=['accuracy'])\n",
        "\n",
        "    return siamese_pair_model\n"
      ],
      "metadata": {
        "id": "s482k0cNUdmU"
      },
      "execution_count": 221,
      "outputs": []
    },
    {
      "cell_type": "code",
      "source": [
        "def preprocess_image(img):\n",
        "    img = img.resize((28, 28), resample=Image.LANCZOS).convert('L')  # Resize and convert to grayscale\n",
        "    img_array = np.array(img) / 255.0\n",
        "    return img_array"
      ],
      "metadata": {
        "id": "hrEQTRSbXs8m"
      },
      "execution_count": 222,
      "outputs": []
    },
    {
      "cell_type": "code",
      "source": [
        "image_gucci1 = Image.open('/content/gucci_logo1.jpeg')\n",
        "image_gucci2 = Image.open('/content/gucci_logo2.jpeg')\n",
        "image_doremon1 = Image.open('/content/doremon_1.png')\n",
        "image_doremon2 = Image.open('/content/doremon_2.png')\n",
        "image_nobita = Image.open(\"/content/nobita.jpeg\")\n",
        "image_nobita2 = Image.open(\"/content/nobita2.jpeg\")\n",
        "image_bat1 = Image.open(\"/content/circket_bat1.jpeg\")\n",
        "image_bat2 = Image.open(\"/content/circket_bat2.jpeg\")"
      ],
      "metadata": {
        "id": "mWs4WjT3YSkZ"
      },
      "execution_count": 223,
      "outputs": []
    },
    {
      "cell_type": "code",
      "source": [
        "gucci_logo_1 = preprocess_image(image_gucci1)\n",
        "gucci_logo_2 = preprocess_image(image_gucci2)\n",
        "doremon_1 = preprocess_image(image_doremon1)\n",
        "doremon_2 = preprocess_image(image_doremon2)\n",
        "nobita = preprocess_image(image_nobita)\n",
        "nobita2 = preprocess_image(image_nobita2)\n",
        "bat1 = preprocess_image(image_bat1)\n",
        "bat2 = preprocess_image(image_bat2)"
      ],
      "metadata": {
        "id": "-MRDgQYdcScY"
      },
      "execution_count": 224,
      "outputs": []
    },
    {
      "cell_type": "code",
      "source": [
        "#create pairs\n",
        "pairs = [\n",
        "    (gucci_logo_1, gucci_logo_2),\n",
        "    (doremon_1, doremon_2),\n",
        "    (nobita, nobita2),\n",
        "    (bat1, bat2)\n",
        "     # Add more pairs as needed\n",
        "]"
      ],
      "metadata": {
        "id": "_h8ua-Zb3I8g"
      },
      "execution_count": 225,
      "outputs": []
    },
    {
      "cell_type": "code",
      "source": [
        "num_classes = 4\n",
        "siamese_pair_model = create_siamese_pair(num_classes)"
      ],
      "metadata": {
        "id": "ChhH_eFyTOGD"
      },
      "execution_count": 226,
      "outputs": []
    },
    {
      "cell_type": "code",
      "source": [
        "# Create a pair for prediction\n",
        "pair_for_prediction = np.array([[doremon_1,doremon_2]])\n",
        "\n",
        "# Make predictions using the trained Siamese model\n",
        "predictions = siamese_pair_model.predict([pair_for_prediction[:, 0], pair_for_prediction[:, 1]])\n",
        "\n",
        "# Print the predicted similarity score\n",
        "print(\"Similarity Score:\", predictions[0][0])\n"
      ],
      "metadata": {
        "id": "07L0valIWzib",
        "colab": {
          "base_uri": "https://localhost:8080/"
        },
        "outputId": "c595205d-454c-4fb9-870c-b8e85bebb664"
      },
      "execution_count": 227,
      "outputs": [
        {
          "output_type": "stream",
          "name": "stdout",
          "text": [
            "1/1 [==============================] - 0s 213ms/step\n",
            "Similarity Score: 0.50008047\n"
          ]
        }
      ]
    },
    {
      "cell_type": "code",
      "source": [
        "# Create a pair for prediction\n",
        "pair_for_prediction = np.array([[gucci_logo_1,gucci_logo_2]])\n",
        "\n",
        "# Make predictions using the trained Siamese model\n",
        "predictions = siamese_pair_model.predict([pair_for_prediction[:, 0], pair_for_prediction[:, 1]])\n",
        "\n",
        "# Print the predicted similarity score\n",
        "print(\"Similarity Score:\", predictions[0][0])\n"
      ],
      "metadata": {
        "colab": {
          "base_uri": "https://localhost:8080/"
        },
        "id": "GT5RyQeJf4Wl",
        "outputId": "93eb787c-3f1e-403b-c3be-01cdc1d0e437"
      },
      "execution_count": 228,
      "outputs": [
        {
          "output_type": "stream",
          "name": "stdout",
          "text": [
            "1/1 [==============================] - 0s 29ms/step\n",
            "Similarity Score: 0.5001001\n"
          ]
        }
      ]
    },
    {
      "cell_type": "code",
      "source": [
        "# Create a pair for prediction\n",
        "pair_for_prediction = np.array([[nobita,nobita2]])\n",
        "\n",
        "# Make predictions using the trained Siamese model\n",
        "predictions = siamese_pair_model.predict([pair_for_prediction[:, 0], pair_for_prediction[:, 1]])\n",
        "\n",
        "# Print the predicted similarity score\n",
        "print(\"Similarity Score:\", predictions[0][0])\n"
      ],
      "metadata": {
        "colab": {
          "base_uri": "https://localhost:8080/"
        },
        "id": "LSC0EcXwgCnE",
        "outputId": "4f102f15-1595-4a35-d7b8-f2a267b97276"
      },
      "execution_count": 229,
      "outputs": [
        {
          "output_type": "stream",
          "name": "stdout",
          "text": [
            "1/1 [==============================] - 0s 25ms/step\n",
            "Similarity Score: 0.49990895\n"
          ]
        }
      ]
    },
    {
      "cell_type": "code",
      "source": [
        "# Create a pair for prediction\n",
        "pair_for_prediction = np.array([[nobita, doremon_2]])\n",
        "\n",
        "# Make predictions using the trained Siamese model\n",
        "predictions = siamese_pair_model.predict([pair_for_prediction[:, 0], pair_for_prediction[:, 1]])\n",
        "\n",
        "# Print the predicted similarity score\n",
        "print(\"Similarity Score:\", predictions[0][0])"
      ],
      "metadata": {
        "colab": {
          "base_uri": "https://localhost:8080/"
        },
        "id": "JcS_2HwS4eP9",
        "outputId": "a8604b9e-436b-4d18-c4d5-d7d67e8507e9"
      },
      "execution_count": 230,
      "outputs": [
        {
          "output_type": "stream",
          "name": "stdout",
          "text": [
            "1/1 [==============================] - 0s 26ms/step\n",
            "Similarity Score: 0.500204\n"
          ]
        }
      ]
    },
    {
      "cell_type": "code",
      "source": [],
      "metadata": {
        "id": "jMIkOKyY7gU7"
      },
      "execution_count": 230,
      "outputs": []
    }
  ]
}