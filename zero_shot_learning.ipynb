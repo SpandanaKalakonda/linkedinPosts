{
  "nbformat": 4,
  "nbformat_minor": 0,
  "metadata": {
    "colab": {
      "provenance": [],
      "authorship_tag": "ABX9TyOe4ThAAua8EyIO31c01Fkt",
      "include_colab_link": true
    },
    "kernelspec": {
      "name": "python3",
      "display_name": "Python 3"
    },
    "language_info": {
      "name": "python"
    }
  },
  "cells": [
    {
      "cell_type": "markdown",
      "metadata": {
        "id": "view-in-github",
        "colab_type": "text"
      },
      "source": [
        "<a href=\"https://colab.research.google.com/github/SpandanaKalakonda/linkedinPosts/blob/main/zero_shot_learning.ipynb\" target=\"_parent\"><img src=\"https://colab.research.google.com/assets/colab-badge.svg\" alt=\"Open In Colab\"/></a>"
      ]
    },
    {
      "cell_type": "code",
      "source": [
        "import torch\n",
        "from PIL import Image\n",
        "from transformers import CLIPProcessor, CLIPModel"
      ],
      "metadata": {
        "id": "Kg5w5wvHr252"
      },
      "execution_count": 91,
      "outputs": []
    },
    {
      "cell_type": "code",
      "source": [
        "#Load the CLIP model and processor\n",
        "model = CLIPModel.from_pretrained(\"openai/clip-vit-base-patch32\")\n",
        "processor = CLIPProcessor.from_pretrained(\"openai/clip-vit-base-patch32\")"
      ],
      "metadata": {
        "id": "nGEE8ExZvytl"
      },
      "execution_count": 92,
      "outputs": []
    },
    {
      "cell_type": "code",
      "source": [
        "#Load the image you want to predict\n",
        "image1 = Image.open(\"/content/zebra.jpeg\")\n",
        "image2 = Image.open(\"/content/dog.jpeg\")"
      ],
      "metadata": {
        "id": "O7lYdpFUxEIS"
      },
      "execution_count": 93,
      "outputs": []
    },
    {
      "cell_type": "code",
      "source": [
        "#Inputs for zero-shot learning\n",
        "inputs = processor(images=[image1, image2],\n",
        "                   text=['dog','panda','zebra'],\n",
        "                   return_tensors='pt',\n",
        "                   padding=True)"
      ],
      "metadata": {
        "id": "SjHedBDVxPtI"
      },
      "execution_count": 94,
      "outputs": []
    },
    {
      "cell_type": "code",
      "source": [
        "#Model Prediction\n",
        "outputs = model(**inputs)\n",
        "logits_per_image = outputs.logits_per_image\n",
        "probs = logits_per_image.softmax(dim=1)"
      ],
      "metadata": {
        "id": "_2cE9WGCyDCg"
      },
      "execution_count": 95,
      "outputs": []
    },
    {
      "cell_type": "code",
      "source": [
        "#Corresponding class labels for each class\n",
        "class_labels= ['dog', 'panda', 'zebra']"
      ],
      "metadata": {
        "id": "n6sRlGdEyPnf"
      },
      "execution_count": 96,
      "outputs": []
    },
    {
      "cell_type": "code",
      "source": [
        "# Display probabilities and predicted class for each image\n",
        "for i, prob in enumerate(probs):\n",
        "    predicted_class_index = torch.argmax(prob).item()\n",
        "    predicted_class_label = class_labels[predicted_class_index]\n",
        "\n",
        "    print(f\"Probabilities for Image {i + 1}:\")\n",
        "    for j, p in enumerate(prob):\n",
        "        print(f\"{class_labels[j]}: {p.item()}\")\n",
        "\n",
        "    print(f\"Predicted Class for Image {i + 1}: {predicted_class_label}\\n\")"
      ],
      "metadata": {
        "colab": {
          "base_uri": "https://localhost:8080/"
        },
        "id": "SAusIaVa1qLZ",
        "outputId": "f79c92ac-887d-47df-b8b7-dc874b431341"
      },
      "execution_count": 97,
      "outputs": [
        {
          "output_type": "stream",
          "name": "stdout",
          "text": [
            "Probabilities for Image 1:\n",
            "dog: 8.111237548291683e-06\n",
            "panda: 2.0256466086721048e-06\n",
            "zebra: 0.9999898672103882\n",
            "Predicted Class for Image 1: zebra\n",
            "\n",
            "Probabilities for Image 2:\n",
            "dog: 0.9780414700508118\n",
            "panda: 0.021754762157797813\n",
            "zebra: 0.00020377289911266416\n",
            "Predicted Class for Image 2: dog\n",
            "\n"
          ]
        }
      ]
    }
  ]
}