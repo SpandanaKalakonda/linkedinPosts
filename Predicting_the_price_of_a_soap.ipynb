{
  "nbformat": 4,
  "nbformat_minor": 0,
  "metadata": {
    "colab": {
      "provenance": []
    },
    "kernelspec": {
      "name": "python3",
      "display_name": "Python 3"
    },
    "language_info": {
      "name": "python"
    }
  },
  "cells": [
    {
      "cell_type": "code",
      "execution_count": 1,
      "metadata": {
        "id": "HypWc_evw00_"
      },
      "outputs": [],
      "source": [
        "#import the necessary libraries\n",
        "import pandas as pd\n",
        "import numpy as np\n",
        "from io import StringIO\n",
        "from sklearn.model_selection import train_test_split\n",
        "from sklearn.linear_model import LinearRegression\n",
        "from sklearn.metrics import mean_squared_error"
      ]
    },
    {
      "cell_type": "code",
      "source": [
        "# Sample CSV data for the prediction of the price of a soap\n",
        "csv_data = \"\"\"\n",
        "Size (g),Raw Material (Special Ingredients),Process,Raw Material Cost,Labor and Machinery Cost,Packaging and Shipping Cost,Brand,Market Demand,Competitor Price,Location,Market Segment,Price\n",
        "120,\"Lavender, Coconut Oil\",Handmade,5.5,3.2,1.8,OrganicSoap,High,15,Urban,Luxury,20\n",
        "80,\"Aloe Vera, Olive Oil\",Organic,4.2,2.8,1.5,NatureFresh,Medium,12,Suburban,Everyday,12\n",
        "150,\"Charcoal, Tea Tree Oil\",Specialty,6.8,4.5,2.3,CharcoPure,Low,18,Rural,Spa,25\n",
        "100,\"Shea Butter, Almond Oil\",Handmade,5,3,1.2,HandCrafted,High,14,Urban,Organic,18\n",
        "130,\"Green Tea Extract, Jojoba Oil\",Organic,5.8,3.5,1.6,GreenEleg,Medium,13,Suburban,Everyday,15\n",
        "90,\"Chamomile, Sunflower Oil\",Handmade,4.5,2.7,1,PureBliss,High,16,Urban,Luxury,22\n",
        "110,\"Rosehip Oil, Oatmeal\",Specialty,6,3.8,2,RoseSilk,Medium,17,Suburban,Spa,19\n",
        "75,\"Cucumber Extract, Coconut Oil\",Handmade,4,2.5,1.1,FreshGlow,High,15,Urban,Organic,16\n",
        "140,\"Peppermint, Almond Oil\",Organic,6.5,4,2.2,MintyFresh,Medium,14,Suburban,Everyday,17\n",
        "95,\"Mango Butter, Avocado Oil\",Handmade,4.8,3.1,1.3,ExoticMango,High,16,Urban,Luxury,21\n",
        "120,\"Lemongrass, Argan Oil\",Organic,5.7,3.3,1.4,CitrusBurst,Medium,13,Suburban,Spa,14\n",
        "85,\"Lavender, Coconut Oil\",Handmade,4.2,2.6,1,LavishScent,High,15,Urban,Organic,18\n",
        "130,\"Charcoal, Tea Tree Oil\",Specialty,6.5,4.2,2.1,PureChar,Low,17,Rural,Spa,23\n",
        "100,\"Aloe Vera, Olive Oil\",Organic,4.8,3,1.5,AlohaFresh,Medium,13,Suburban,Everyday,15\n",
        "150,\"Shea Butter, Almond Oil\",Handmade,7,4.8,2.5,SilkTouch,High,18,Urban,Luxury,25\n",
        "80,\"Green Tea Extract, Jojoba Oil\",Organic,4,2.3,1.2,GreenTease,Medium,12,Suburban,Everyday,11\n",
        "110,\"Chamomile, Sunflower Oil\",Handmade,5.3,3.5,1.7,CalmEssence,High,16,Urban,Organic,19\n",
        "120,\"Rosehip Oil, Oatmeal\",Specialty,6.2,4,2.2,RoseSilk,Medium,17,Suburban,Spa,20\n",
        "90,\"Cucumber Extract, Coconut Oil\",Handmade,4.2,2.4,1.1,FreshGlow,High,15,Urban,Organic,16\n",
        "140,\"Peppermint, Almond Oil\",Organic,6.8,4.2,2.3,MintyFresh,Medium,14,Suburban,Everyday,18\n",
        "\"\"\""
      ],
      "metadata": {
        "id": "md0Dt7_uxCQ-"
      },
      "execution_count": 2,
      "outputs": []
    },
    {
      "cell_type": "code",
      "source": [
        "# Creating DataFrame\n",
        "df = pd.read_csv(StringIO(csv_data))"
      ],
      "metadata": {
        "id": "nIdU9iL-xK2N"
      },
      "execution_count": 3,
      "outputs": []
    },
    {
      "cell_type": "code",
      "source": [
        "# Displaying the sample records of the DataFrame\n",
        "df.head()"
      ],
      "metadata": {
        "colab": {
          "base_uri": "https://localhost:8080/",
          "height": 310
        },
        "id": "Siz_W5aHxNa2",
        "outputId": "30200390-5bf7-4819-801e-992021b14952"
      },
      "execution_count": 30,
      "outputs": [
        {
          "output_type": "execute_result",
          "data": {
            "text/plain": [
              "   Size (g) Raw Material (Special Ingredients)    Process  Raw Material Cost  \\\n",
              "0       120              Lavender, Coconut Oil   Handmade                5.5   \n",
              "1        80               Aloe Vera, Olive Oil    Organic                4.2   \n",
              "2       150             Charcoal, Tea Tree Oil  Specialty                6.8   \n",
              "3       100            Shea Butter, Almond Oil   Handmade                5.0   \n",
              "4       130      Green Tea Extract, Jojoba Oil    Organic                5.8   \n",
              "\n",
              "   Labor and Machinery Cost  Packaging and Shipping Cost        Brand  \\\n",
              "0                       3.2                          1.8  OrganicSoap   \n",
              "1                       2.8                          1.5  NatureFresh   \n",
              "2                       4.5                          2.3   CharcoPure   \n",
              "3                       3.0                          1.2  HandCrafted   \n",
              "4                       3.5                          1.6    GreenEleg   \n",
              "\n",
              "  Market Demand  Competitor Price  Location Market Segment  Price  \n",
              "0          High                15     Urban         Luxury     20  \n",
              "1        Medium                12  Suburban       Everyday     12  \n",
              "2           Low                18     Rural            Spa     25  \n",
              "3          High                14     Urban        Organic     18  \n",
              "4        Medium                13  Suburban       Everyday     15  "
            ],
            "text/html": [
              "\n",
              "  <div id=\"df-c709b594-b177-4edd-a77c-213e8865ddf7\" class=\"colab-df-container\">\n",
              "    <div>\n",
              "<style scoped>\n",
              "    .dataframe tbody tr th:only-of-type {\n",
              "        vertical-align: middle;\n",
              "    }\n",
              "\n",
              "    .dataframe tbody tr th {\n",
              "        vertical-align: top;\n",
              "    }\n",
              "\n",
              "    .dataframe thead th {\n",
              "        text-align: right;\n",
              "    }\n",
              "</style>\n",
              "<table border=\"1\" class=\"dataframe\">\n",
              "  <thead>\n",
              "    <tr style=\"text-align: right;\">\n",
              "      <th></th>\n",
              "      <th>Size (g)</th>\n",
              "      <th>Raw Material (Special Ingredients)</th>\n",
              "      <th>Process</th>\n",
              "      <th>Raw Material Cost</th>\n",
              "      <th>Labor and Machinery Cost</th>\n",
              "      <th>Packaging and Shipping Cost</th>\n",
              "      <th>Brand</th>\n",
              "      <th>Market Demand</th>\n",
              "      <th>Competitor Price</th>\n",
              "      <th>Location</th>\n",
              "      <th>Market Segment</th>\n",
              "      <th>Price</th>\n",
              "    </tr>\n",
              "  </thead>\n",
              "  <tbody>\n",
              "    <tr>\n",
              "      <th>0</th>\n",
              "      <td>120</td>\n",
              "      <td>Lavender, Coconut Oil</td>\n",
              "      <td>Handmade</td>\n",
              "      <td>5.5</td>\n",
              "      <td>3.2</td>\n",
              "      <td>1.8</td>\n",
              "      <td>OrganicSoap</td>\n",
              "      <td>High</td>\n",
              "      <td>15</td>\n",
              "      <td>Urban</td>\n",
              "      <td>Luxury</td>\n",
              "      <td>20</td>\n",
              "    </tr>\n",
              "    <tr>\n",
              "      <th>1</th>\n",
              "      <td>80</td>\n",
              "      <td>Aloe Vera, Olive Oil</td>\n",
              "      <td>Organic</td>\n",
              "      <td>4.2</td>\n",
              "      <td>2.8</td>\n",
              "      <td>1.5</td>\n",
              "      <td>NatureFresh</td>\n",
              "      <td>Medium</td>\n",
              "      <td>12</td>\n",
              "      <td>Suburban</td>\n",
              "      <td>Everyday</td>\n",
              "      <td>12</td>\n",
              "    </tr>\n",
              "    <tr>\n",
              "      <th>2</th>\n",
              "      <td>150</td>\n",
              "      <td>Charcoal, Tea Tree Oil</td>\n",
              "      <td>Specialty</td>\n",
              "      <td>6.8</td>\n",
              "      <td>4.5</td>\n",
              "      <td>2.3</td>\n",
              "      <td>CharcoPure</td>\n",
              "      <td>Low</td>\n",
              "      <td>18</td>\n",
              "      <td>Rural</td>\n",
              "      <td>Spa</td>\n",
              "      <td>25</td>\n",
              "    </tr>\n",
              "    <tr>\n",
              "      <th>3</th>\n",
              "      <td>100</td>\n",
              "      <td>Shea Butter, Almond Oil</td>\n",
              "      <td>Handmade</td>\n",
              "      <td>5.0</td>\n",
              "      <td>3.0</td>\n",
              "      <td>1.2</td>\n",
              "      <td>HandCrafted</td>\n",
              "      <td>High</td>\n",
              "      <td>14</td>\n",
              "      <td>Urban</td>\n",
              "      <td>Organic</td>\n",
              "      <td>18</td>\n",
              "    </tr>\n",
              "    <tr>\n",
              "      <th>4</th>\n",
              "      <td>130</td>\n",
              "      <td>Green Tea Extract, Jojoba Oil</td>\n",
              "      <td>Organic</td>\n",
              "      <td>5.8</td>\n",
              "      <td>3.5</td>\n",
              "      <td>1.6</td>\n",
              "      <td>GreenEleg</td>\n",
              "      <td>Medium</td>\n",
              "      <td>13</td>\n",
              "      <td>Suburban</td>\n",
              "      <td>Everyday</td>\n",
              "      <td>15</td>\n",
              "    </tr>\n",
              "  </tbody>\n",
              "</table>\n",
              "</div>\n",
              "    <div class=\"colab-df-buttons\">\n",
              "\n",
              "  <div class=\"colab-df-container\">\n",
              "    <button class=\"colab-df-convert\" onclick=\"convertToInteractive('df-c709b594-b177-4edd-a77c-213e8865ddf7')\"\n",
              "            title=\"Convert this dataframe to an interactive table.\"\n",
              "            style=\"display:none;\">\n",
              "\n",
              "  <svg xmlns=\"http://www.w3.org/2000/svg\" height=\"24px\" viewBox=\"0 -960 960 960\">\n",
              "    <path d=\"M120-120v-720h720v720H120Zm60-500h600v-160H180v160Zm220 220h160v-160H400v160Zm0 220h160v-160H400v160ZM180-400h160v-160H180v160Zm440 0h160v-160H620v160ZM180-180h160v-160H180v160Zm440 0h160v-160H620v160Z\"/>\n",
              "  </svg>\n",
              "    </button>\n",
              "\n",
              "  <style>\n",
              "    .colab-df-container {\n",
              "      display:flex;\n",
              "      gap: 12px;\n",
              "    }\n",
              "\n",
              "    .colab-df-convert {\n",
              "      background-color: #E8F0FE;\n",
              "      border: none;\n",
              "      border-radius: 50%;\n",
              "      cursor: pointer;\n",
              "      display: none;\n",
              "      fill: #1967D2;\n",
              "      height: 32px;\n",
              "      padding: 0 0 0 0;\n",
              "      width: 32px;\n",
              "    }\n",
              "\n",
              "    .colab-df-convert:hover {\n",
              "      background-color: #E2EBFA;\n",
              "      box-shadow: 0px 1px 2px rgba(60, 64, 67, 0.3), 0px 1px 3px 1px rgba(60, 64, 67, 0.15);\n",
              "      fill: #174EA6;\n",
              "    }\n",
              "\n",
              "    .colab-df-buttons div {\n",
              "      margin-bottom: 4px;\n",
              "    }\n",
              "\n",
              "    [theme=dark] .colab-df-convert {\n",
              "      background-color: #3B4455;\n",
              "      fill: #D2E3FC;\n",
              "    }\n",
              "\n",
              "    [theme=dark] .colab-df-convert:hover {\n",
              "      background-color: #434B5C;\n",
              "      box-shadow: 0px 1px 3px 1px rgba(0, 0, 0, 0.15);\n",
              "      filter: drop-shadow(0px 1px 2px rgba(0, 0, 0, 0.3));\n",
              "      fill: #FFFFFF;\n",
              "    }\n",
              "  </style>\n",
              "\n",
              "    <script>\n",
              "      const buttonEl =\n",
              "        document.querySelector('#df-c709b594-b177-4edd-a77c-213e8865ddf7 button.colab-df-convert');\n",
              "      buttonEl.style.display =\n",
              "        google.colab.kernel.accessAllowed ? 'block' : 'none';\n",
              "\n",
              "      async function convertToInteractive(key) {\n",
              "        const element = document.querySelector('#df-c709b594-b177-4edd-a77c-213e8865ddf7');\n",
              "        const dataTable =\n",
              "          await google.colab.kernel.invokeFunction('convertToInteractive',\n",
              "                                                    [key], {});\n",
              "        if (!dataTable) return;\n",
              "\n",
              "        const docLinkHtml = 'Like what you see? Visit the ' +\n",
              "          '<a target=\"_blank\" href=https://colab.research.google.com/notebooks/data_table.ipynb>data table notebook</a>'\n",
              "          + ' to learn more about interactive tables.';\n",
              "        element.innerHTML = '';\n",
              "        dataTable['output_type'] = 'display_data';\n",
              "        await google.colab.output.renderOutput(dataTable, element);\n",
              "        const docLink = document.createElement('div');\n",
              "        docLink.innerHTML = docLinkHtml;\n",
              "        element.appendChild(docLink);\n",
              "      }\n",
              "    </script>\n",
              "  </div>\n",
              "\n",
              "\n",
              "<div id=\"df-9ed7a08f-39d4-423d-89db-25a0159f4097\">\n",
              "  <button class=\"colab-df-quickchart\" onclick=\"quickchart('df-9ed7a08f-39d4-423d-89db-25a0159f4097')\"\n",
              "            title=\"Suggest charts\"\n",
              "            style=\"display:none;\">\n",
              "\n",
              "<svg xmlns=\"http://www.w3.org/2000/svg\" height=\"24px\"viewBox=\"0 0 24 24\"\n",
              "     width=\"24px\">\n",
              "    <g>\n",
              "        <path d=\"M19 3H5c-1.1 0-2 .9-2 2v14c0 1.1.9 2 2 2h14c1.1 0 2-.9 2-2V5c0-1.1-.9-2-2-2zM9 17H7v-7h2v7zm4 0h-2V7h2v10zm4 0h-2v-4h2v4z\"/>\n",
              "    </g>\n",
              "</svg>\n",
              "  </button>\n",
              "\n",
              "<style>\n",
              "  .colab-df-quickchart {\n",
              "      --bg-color: #E8F0FE;\n",
              "      --fill-color: #1967D2;\n",
              "      --hover-bg-color: #E2EBFA;\n",
              "      --hover-fill-color: #174EA6;\n",
              "      --disabled-fill-color: #AAA;\n",
              "      --disabled-bg-color: #DDD;\n",
              "  }\n",
              "\n",
              "  [theme=dark] .colab-df-quickchart {\n",
              "      --bg-color: #3B4455;\n",
              "      --fill-color: #D2E3FC;\n",
              "      --hover-bg-color: #434B5C;\n",
              "      --hover-fill-color: #FFFFFF;\n",
              "      --disabled-bg-color: #3B4455;\n",
              "      --disabled-fill-color: #666;\n",
              "  }\n",
              "\n",
              "  .colab-df-quickchart {\n",
              "    background-color: var(--bg-color);\n",
              "    border: none;\n",
              "    border-radius: 50%;\n",
              "    cursor: pointer;\n",
              "    display: none;\n",
              "    fill: var(--fill-color);\n",
              "    height: 32px;\n",
              "    padding: 0;\n",
              "    width: 32px;\n",
              "  }\n",
              "\n",
              "  .colab-df-quickchart:hover {\n",
              "    background-color: var(--hover-bg-color);\n",
              "    box-shadow: 0 1px 2px rgba(60, 64, 67, 0.3), 0 1px 3px 1px rgba(60, 64, 67, 0.15);\n",
              "    fill: var(--button-hover-fill-color);\n",
              "  }\n",
              "\n",
              "  .colab-df-quickchart-complete:disabled,\n",
              "  .colab-df-quickchart-complete:disabled:hover {\n",
              "    background-color: var(--disabled-bg-color);\n",
              "    fill: var(--disabled-fill-color);\n",
              "    box-shadow: none;\n",
              "  }\n",
              "\n",
              "  .colab-df-spinner {\n",
              "    border: 2px solid var(--fill-color);\n",
              "    border-color: transparent;\n",
              "    border-bottom-color: var(--fill-color);\n",
              "    animation:\n",
              "      spin 1s steps(1) infinite;\n",
              "  }\n",
              "\n",
              "  @keyframes spin {\n",
              "    0% {\n",
              "      border-color: transparent;\n",
              "      border-bottom-color: var(--fill-color);\n",
              "      border-left-color: var(--fill-color);\n",
              "    }\n",
              "    20% {\n",
              "      border-color: transparent;\n",
              "      border-left-color: var(--fill-color);\n",
              "      border-top-color: var(--fill-color);\n",
              "    }\n",
              "    30% {\n",
              "      border-color: transparent;\n",
              "      border-left-color: var(--fill-color);\n",
              "      border-top-color: var(--fill-color);\n",
              "      border-right-color: var(--fill-color);\n",
              "    }\n",
              "    40% {\n",
              "      border-color: transparent;\n",
              "      border-right-color: var(--fill-color);\n",
              "      border-top-color: var(--fill-color);\n",
              "    }\n",
              "    60% {\n",
              "      border-color: transparent;\n",
              "      border-right-color: var(--fill-color);\n",
              "    }\n",
              "    80% {\n",
              "      border-color: transparent;\n",
              "      border-right-color: var(--fill-color);\n",
              "      border-bottom-color: var(--fill-color);\n",
              "    }\n",
              "    90% {\n",
              "      border-color: transparent;\n",
              "      border-bottom-color: var(--fill-color);\n",
              "    }\n",
              "  }\n",
              "</style>\n",
              "\n",
              "  <script>\n",
              "    async function quickchart(key) {\n",
              "      const quickchartButtonEl =\n",
              "        document.querySelector('#' + key + ' button');\n",
              "      quickchartButtonEl.disabled = true;  // To prevent multiple clicks.\n",
              "      quickchartButtonEl.classList.add('colab-df-spinner');\n",
              "      try {\n",
              "        const charts = await google.colab.kernel.invokeFunction(\n",
              "            'suggestCharts', [key], {});\n",
              "      } catch (error) {\n",
              "        console.error('Error during call to suggestCharts:', error);\n",
              "      }\n",
              "      quickchartButtonEl.classList.remove('colab-df-spinner');\n",
              "      quickchartButtonEl.classList.add('colab-df-quickchart-complete');\n",
              "    }\n",
              "    (() => {\n",
              "      let quickchartButtonEl =\n",
              "        document.querySelector('#df-9ed7a08f-39d4-423d-89db-25a0159f4097 button');\n",
              "      quickchartButtonEl.style.display =\n",
              "        google.colab.kernel.accessAllowed ? 'block' : 'none';\n",
              "    })();\n",
              "  </script>\n",
              "</div>\n",
              "\n",
              "    </div>\n",
              "  </div>\n"
            ]
          },
          "metadata": {},
          "execution_count": 30
        }
      ]
    },
    {
      "cell_type": "code",
      "source": [
        "#Displaying the datatypes of the columns\n",
        "df.info()"
      ],
      "metadata": {
        "colab": {
          "base_uri": "https://localhost:8080/"
        },
        "id": "K7ysTVOuxVD5",
        "outputId": "adcc35cd-59f4-4a43-d3d4-e76c77684ac7"
      },
      "execution_count": 7,
      "outputs": [
        {
          "output_type": "stream",
          "name": "stdout",
          "text": [
            "<class 'pandas.core.frame.DataFrame'>\n",
            "RangeIndex: 20 entries, 0 to 19\n",
            "Data columns (total 12 columns):\n",
            " #   Column                              Non-Null Count  Dtype  \n",
            "---  ------                              --------------  -----  \n",
            " 0   Size (g)                            20 non-null     int64  \n",
            " 1   Raw Material (Special Ingredients)  20 non-null     object \n",
            " 2   Process                             20 non-null     object \n",
            " 3   Raw Material Cost                   20 non-null     float64\n",
            " 4   Labor and Machinery Cost            20 non-null     float64\n",
            " 5   Packaging and Shipping Cost         20 non-null     float64\n",
            " 6   Brand                               20 non-null     object \n",
            " 7   Market Demand                       20 non-null     object \n",
            " 8   Competitor Price                    20 non-null     int64  \n",
            " 9   Location                            20 non-null     object \n",
            " 10  Market Segment                      20 non-null     object \n",
            " 11  Price                               20 non-null     int64  \n",
            "dtypes: float64(3), int64(3), object(6)\n",
            "memory usage: 2.0+ KB\n"
          ]
        }
      ]
    },
    {
      "cell_type": "code",
      "source": [
        "# Extracting the features and target variable\n",
        "X = df.drop(['Price'], axis = 1)  # Features\n",
        "y = df['Price']  # Target"
      ],
      "metadata": {
        "id": "ImZA6I9QxY15"
      },
      "execution_count": 8,
      "outputs": []
    },
    {
      "cell_type": "code",
      "source": [
        "# Converting categorical variables into dummy variables\n",
        "X = pd.get_dummies(X, columns=['Raw Material (Special Ingredients)', 'Process', 'Brand','Market Demand', 'Location', 'Market Segment'])"
      ],
      "metadata": {
        "id": "Iic1chwGrQW1"
      },
      "execution_count": 9,
      "outputs": []
    },
    {
      "cell_type": "code",
      "source": [
        "# Split the data into training and testing sets\n",
        "X_train, X_test, y_train, y_test = train_test_split(X, y, test_size=0.2, random_state=42)"
      ],
      "metadata": {
        "id": "Jq4U50wtxyE8"
      },
      "execution_count": 10,
      "outputs": []
    },
    {
      "cell_type": "code",
      "source": [
        "# Initialize the Linear Regression model\n",
        "model = LinearRegression()"
      ],
      "metadata": {
        "id": "y6blH8SHx2CW"
      },
      "execution_count": 11,
      "outputs": []
    },
    {
      "cell_type": "code",
      "source": [
        "# Train the model\n",
        "model.fit(X_train, y_train)"
      ],
      "metadata": {
        "colab": {
          "base_uri": "https://localhost:8080/",
          "height": 74
        },
        "id": "Bm8qRH-Ux4Jx",
        "outputId": "b2a8e00a-8f8f-4aec-a48f-4403f6a2cd1d"
      },
      "execution_count": 12,
      "outputs": [
        {
          "output_type": "execute_result",
          "data": {
            "text/plain": [
              "LinearRegression()"
            ],
            "text/html": [
              "<style>#sk-container-id-1 {color: black;background-color: white;}#sk-container-id-1 pre{padding: 0;}#sk-container-id-1 div.sk-toggleable {background-color: white;}#sk-container-id-1 label.sk-toggleable__label {cursor: pointer;display: block;width: 100%;margin-bottom: 0;padding: 0.3em;box-sizing: border-box;text-align: center;}#sk-container-id-1 label.sk-toggleable__label-arrow:before {content: \"▸\";float: left;margin-right: 0.25em;color: #696969;}#sk-container-id-1 label.sk-toggleable__label-arrow:hover:before {color: black;}#sk-container-id-1 div.sk-estimator:hover label.sk-toggleable__label-arrow:before {color: black;}#sk-container-id-1 div.sk-toggleable__content {max-height: 0;max-width: 0;overflow: hidden;text-align: left;background-color: #f0f8ff;}#sk-container-id-1 div.sk-toggleable__content pre {margin: 0.2em;color: black;border-radius: 0.25em;background-color: #f0f8ff;}#sk-container-id-1 input.sk-toggleable__control:checked~div.sk-toggleable__content {max-height: 200px;max-width: 100%;overflow: auto;}#sk-container-id-1 input.sk-toggleable__control:checked~label.sk-toggleable__label-arrow:before {content: \"▾\";}#sk-container-id-1 div.sk-estimator input.sk-toggleable__control:checked~label.sk-toggleable__label {background-color: #d4ebff;}#sk-container-id-1 div.sk-label input.sk-toggleable__control:checked~label.sk-toggleable__label {background-color: #d4ebff;}#sk-container-id-1 input.sk-hidden--visually {border: 0;clip: rect(1px 1px 1px 1px);clip: rect(1px, 1px, 1px, 1px);height: 1px;margin: -1px;overflow: hidden;padding: 0;position: absolute;width: 1px;}#sk-container-id-1 div.sk-estimator {font-family: monospace;background-color: #f0f8ff;border: 1px dotted black;border-radius: 0.25em;box-sizing: border-box;margin-bottom: 0.5em;}#sk-container-id-1 div.sk-estimator:hover {background-color: #d4ebff;}#sk-container-id-1 div.sk-parallel-item::after {content: \"\";width: 100%;border-bottom: 1px solid gray;flex-grow: 1;}#sk-container-id-1 div.sk-label:hover label.sk-toggleable__label {background-color: #d4ebff;}#sk-container-id-1 div.sk-serial::before {content: \"\";position: absolute;border-left: 1px solid gray;box-sizing: border-box;top: 0;bottom: 0;left: 50%;z-index: 0;}#sk-container-id-1 div.sk-serial {display: flex;flex-direction: column;align-items: center;background-color: white;padding-right: 0.2em;padding-left: 0.2em;position: relative;}#sk-container-id-1 div.sk-item {position: relative;z-index: 1;}#sk-container-id-1 div.sk-parallel {display: flex;align-items: stretch;justify-content: center;background-color: white;position: relative;}#sk-container-id-1 div.sk-item::before, #sk-container-id-1 div.sk-parallel-item::before {content: \"\";position: absolute;border-left: 1px solid gray;box-sizing: border-box;top: 0;bottom: 0;left: 50%;z-index: -1;}#sk-container-id-1 div.sk-parallel-item {display: flex;flex-direction: column;z-index: 1;position: relative;background-color: white;}#sk-container-id-1 div.sk-parallel-item:first-child::after {align-self: flex-end;width: 50%;}#sk-container-id-1 div.sk-parallel-item:last-child::after {align-self: flex-start;width: 50%;}#sk-container-id-1 div.sk-parallel-item:only-child::after {width: 0;}#sk-container-id-1 div.sk-dashed-wrapped {border: 1px dashed gray;margin: 0 0.4em 0.5em 0.4em;box-sizing: border-box;padding-bottom: 0.4em;background-color: white;}#sk-container-id-1 div.sk-label label {font-family: monospace;font-weight: bold;display: inline-block;line-height: 1.2em;}#sk-container-id-1 div.sk-label-container {text-align: center;}#sk-container-id-1 div.sk-container {/* jupyter's `normalize.less` sets `[hidden] { display: none; }` but bootstrap.min.css set `[hidden] { display: none !important; }` so we also need the `!important` here to be able to override the default hidden behavior on the sphinx rendered scikit-learn.org. See: https://github.com/scikit-learn/scikit-learn/issues/21755 */display: inline-block !important;position: relative;}#sk-container-id-1 div.sk-text-repr-fallback {display: none;}</style><div id=\"sk-container-id-1\" class=\"sk-top-container\"><div class=\"sk-text-repr-fallback\"><pre>LinearRegression()</pre><b>In a Jupyter environment, please rerun this cell to show the HTML representation or trust the notebook. <br />On GitHub, the HTML representation is unable to render, please try loading this page with nbviewer.org.</b></div><div class=\"sk-container\" hidden><div class=\"sk-item\"><div class=\"sk-estimator sk-toggleable\"><input class=\"sk-toggleable__control sk-hidden--visually\" id=\"sk-estimator-id-1\" type=\"checkbox\" checked><label for=\"sk-estimator-id-1\" class=\"sk-toggleable__label sk-toggleable__label-arrow\">LinearRegression</label><div class=\"sk-toggleable__content\"><pre>LinearRegression()</pre></div></div></div></div></div>"
            ]
          },
          "metadata": {},
          "execution_count": 12
        }
      ]
    },
    {
      "cell_type": "code",
      "source": [
        "# Make predictions on the test set\n",
        "y_pred = model.predict(X_test)"
      ],
      "metadata": {
        "id": "uWj5XZ69x59L"
      },
      "execution_count": 13,
      "outputs": []
    },
    {
      "cell_type": "code",
      "source": [
        "# Evaluate the model\n",
        "mse = mean_squared_error(y_test, y_pred)\n",
        "rmse = np.sqrt(mse)\n",
        "\n",
        "print(f'Mean Squared Error: {mse}')\n",
        "print(f'Root Mean Squared Error: {rmse}')"
      ],
      "metadata": {
        "colab": {
          "base_uri": "https://localhost:8080/"
        },
        "id": "zWMFHHrtx706",
        "outputId": "3b56e486-2121-4076-dfc2-dee53123d9a8"
      },
      "execution_count": 14,
      "outputs": [
        {
          "output_type": "stream",
          "name": "stdout",
          "text": [
            "Mean Squared Error: 1.1738053807029227\n",
            "Root Mean Squared Error: 1.083422992511661\n"
          ]
        }
      ]
    },
    {
      "cell_type": "code",
      "source": [
        "# Example data for a new soap\n",
        "new_soap_data = {\n",
        "    'Size (g)': [110],\n",
        "    'Raw Material (Special Ingredients)': ['Green Tea Extract, Olive Oil'],\n",
        "    'Process': ['Organic'],\n",
        "    'Raw Material Cost': [5.2],\n",
        "    'Labor and Machinery Cost': [3.0],\n",
        "    'Packaging and Shipping Cost': [1.2],\n",
        "    'Brand': ['AlohaFresh'],\n",
        "    'Market Demand': ['Medium'],\n",
        "    'Competitor Price': [14],\n",
        "    'Location': ['Urban'],\n",
        "    'Market Segment': ['Everyday']\n",
        "}"
      ],
      "metadata": {
        "id": "ZMe02SShx-bH"
      },
      "execution_count": 21,
      "outputs": []
    },
    {
      "cell_type": "code",
      "source": [
        "# Creating a DataFrame for the new soap\n",
        "new_soap_df = pd.DataFrame(new_soap_data)"
      ],
      "metadata": {
        "id": "Z180LxMDyAqG"
      },
      "execution_count": 22,
      "outputs": []
    },
    {
      "cell_type": "code",
      "source": [
        "# Convert categorical variables into dummy/indicator variables\n",
        "new_soap_df = pd.get_dummies(new_soap_df, columns=['Raw Material (Special Ingredients)','Process','Brand','Market Demand','Location','Market Segment'])"
      ],
      "metadata": {
        "id": "wO8sm6oSyFf3"
      },
      "execution_count": 23,
      "outputs": []
    },
    {
      "cell_type": "code",
      "source": [
        "# Make sure the new DataFrame has the same columns as the training data\n",
        "missing_cols = set(X.columns) - set(new_soap_df.columns)\n",
        "for col in missing_cols:\n",
        "    new_soap_df[col] = 0"
      ],
      "metadata": {
        "id": "cFX5jAnByTUg"
      },
      "execution_count": 25,
      "outputs": []
    },
    {
      "cell_type": "code",
      "source": [
        "# Reorder columns to match the order during training\n",
        "new_soap_df = new_soap_df[X.columns]"
      ],
      "metadata": {
        "id": "xONd-5b_yIG0"
      },
      "execution_count": 28,
      "outputs": []
    },
    {
      "cell_type": "code",
      "source": [
        "# Make predictions using the trained model\n",
        "predicted_price = model.predict(new_soap_df)\n",
        "\n",
        "print(f'Predicted Price: {predicted_price[0]}')"
      ],
      "metadata": {
        "colab": {
          "base_uri": "https://localhost:8080/"
        },
        "id": "VRNjEfELyKq2",
        "outputId": "f2004e05-26c2-414d-a572-fd97140f15ef"
      },
      "execution_count": 29,
      "outputs": [
        {
          "output_type": "stream",
          "name": "stdout",
          "text": [
            "Predicted Price: 17.09829651889243\n"
          ]
        }
      ]
    },
    {
      "cell_type": "code",
      "source": [],
      "metadata": {
        "id": "4ngxLo0EyjDh"
      },
      "execution_count": null,
      "outputs": []
    }
  ]
}